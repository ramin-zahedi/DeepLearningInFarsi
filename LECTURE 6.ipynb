{
 "cells": [
  {
   "cell_type": "code",
   "execution_count": 1,
   "id": "f6552d5e",
   "metadata": {},
   "outputs": [],
   "source": [
    "import torch\n",
    "import torch.nn.functional as F\n",
    "import matplotlib.pyplot as plt"
   ]
  },
  {
   "cell_type": "code",
   "execution_count": 2,
   "id": "1cfdf0e7",
   "metadata": {},
   "outputs": [],
   "source": [
    "words = open('names.txt', 'r').read().splitlines()# splits the string into a list of strings, using line breaks as the separator."
   ]
  },
  {
   "cell_type": "code",
   "execution_count": 3,
   "id": "ec7eccab",
   "metadata": {},
   "outputs": [
    {
     "data": {
      "text/plain": [
       "32033"
      ]
     },
     "execution_count": 3,
     "metadata": {},
     "output_type": "execute_result"
    }
   ],
   "source": [
    "len(words)"
   ]
  },
  {
   "cell_type": "code",
   "execution_count": 4,
   "id": "d5ebc020",
   "metadata": {},
   "outputs": [
    {
     "data": {
      "text/plain": [
       "['a',\n",
       " 'b',\n",
       " 'c',\n",
       " 'd',\n",
       " 'e',\n",
       " 'f',\n",
       " 'g',\n",
       " 'h',\n",
       " 'i',\n",
       " 'j',\n",
       " 'k',\n",
       " 'l',\n",
       " 'm',\n",
       " 'n',\n",
       " 'o',\n",
       " 'p',\n",
       " 'q',\n",
       " 'r',\n",
       " 's',\n",
       " 't',\n",
       " 'u',\n",
       " 'v',\n",
       " 'w',\n",
       " 'x',\n",
       " 'y',\n",
       " 'z']"
      ]
     },
     "execution_count": 4,
     "metadata": {},
     "output_type": "execute_result"
    }
   ],
   "source": [
    "chars = sorted(list(set(''.join(words))))\n",
    "chars"
   ]
  },
  {
   "cell_type": "code",
   "execution_count": 5,
   "id": "74773e26",
   "metadata": {},
   "outputs": [],
   "source": [
    "stoi = {s:i+1 for i,s in enumerate(chars)}\n",
    "stoi['.'] = 0\n",
    "\n",
    "itos = {i:s for s,i in stoi.items()}"
   ]
  },
  {
   "cell_type": "code",
   "execution_count": 6,
   "id": "7a4f0ae9",
   "metadata": {
    "scrolled": true
   },
   "outputs": [
    {
     "name": "stdout",
     "output_type": "stream",
     "text": [
      "emma\n",
      "... ---> e\n",
      "..e ---> m\n",
      ".em ---> m\n",
      "emm ---> a\n",
      "mma ---> .\n",
      "olivia\n",
      "... ---> o\n",
      "..o ---> l\n",
      ".ol ---> i\n",
      "oli ---> v\n",
      "liv ---> i\n",
      "ivi ---> a\n",
      "via ---> .\n"
     ]
    }
   ],
   "source": [
    "# build the dataset\n",
    "\n",
    "for w in words[:2]:  \n",
    "    print(w)\n",
    "    context = '...'\n",
    "    \n",
    "    for ch in w + '.':\n",
    "        print(context, '--->', ch)\n",
    "        context = context[1:] + ch # crop and append"
   ]
  },
  {
   "cell_type": "code",
   "execution_count": 7,
   "id": "44077aa3",
   "metadata": {},
   "outputs": [
    {
     "name": "stdout",
     "output_type": "stream",
     "text": [
      "emma\n",
      "... ---> e\n",
      "..e ---> m\n",
      ".em ---> m\n",
      "emm ---> a\n",
      "mma ---> .\n",
      "olivia\n",
      "... ---> o\n",
      "..o ---> l\n",
      ".ol ---> i\n",
      "oli ---> v\n",
      "liv ---> i\n",
      "ivi ---> a\n",
      "via ---> .\n"
     ]
    }
   ],
   "source": [
    "# build the dataset\n",
    "\n",
    "block_size = 3 # context length: how many characters do we take to predict the next one?\n",
    "X, Y = [], []\n",
    "for w in words[:2]:\n",
    "    print(w)\n",
    "    context = [0] * block_size\n",
    "    \n",
    "    for ch in w + '.':\n",
    "        print(''.join(itos[i] for i in context), '--->', ch)\n",
    "        \n",
    "        X.append(context)\n",
    "        Y.append(stoi[ch])\n",
    "        context = context[1:] + [stoi[ch]] # crop and append\n",
    "        \n",
    "X = torch.tensor(X)\n",
    "Y = torch.tensor(Y)        "
   ]
  },
  {
   "cell_type": "code",
   "execution_count": 8,
   "id": "39584351",
   "metadata": {},
   "outputs": [
    {
     "name": "stdout",
     "output_type": "stream",
     "text": [
      "Python List  [1, 2, 1, 2, 1, 2]\n",
      "Numpy Array  [3 6]\n",
      "Pytorch Tensor  tensor([3, 6])\n"
     ]
    }
   ],
   "source": [
    "import numpy as np\n",
    "\n",
    "print('Python List ', [1,2] * 3 ) \n",
    "print('Numpy Array ', np.array([1,2]) * 3 )\n",
    "print('Pytorch Tensor ', torch.tensor([1,2]) * 3 )"
   ]
  },
  {
   "cell_type": "code",
   "execution_count": 9,
   "id": "d9fd4803",
   "metadata": {},
   "outputs": [
    {
     "data": {
      "text/plain": [
       "tensor([[ 0,  0,  0],\n",
       "        [ 0,  0,  5],\n",
       "        [ 0,  5, 13],\n",
       "        [ 5, 13, 13],\n",
       "        [13, 13,  1],\n",
       "        [ 0,  0,  0],\n",
       "        [ 0,  0, 15],\n",
       "        [ 0, 15, 12],\n",
       "        [15, 12,  9],\n",
       "        [12,  9, 22],\n",
       "        [ 9, 22,  9],\n",
       "        [22,  9,  1]])"
      ]
     },
     "execution_count": 9,
     "metadata": {},
     "output_type": "execute_result"
    }
   ],
   "source": [
    "X"
   ]
  },
  {
   "cell_type": "code",
   "execution_count": 10,
   "id": "02b81356",
   "metadata": {},
   "outputs": [
    {
     "data": {
      "text/plain": [
       "tensor([ 5, 13, 13,  1,  0, 15, 12,  9, 22,  9,  1,  0])"
      ]
     },
     "execution_count": 10,
     "metadata": {},
     "output_type": "execute_result"
    }
   ],
   "source": [
    "Y"
   ]
  },
  {
   "cell_type": "code",
   "execution_count": 11,
   "id": "e0740d0e",
   "metadata": {},
   "outputs": [
    {
     "data": {
      "text/plain": [
       "(torch.Size([12, 3]), torch.int64, torch.Size([12]), torch.int64)"
      ]
     },
     "execution_count": 11,
     "metadata": {},
     "output_type": "execute_result"
    }
   ],
   "source": [
    "X.shape, X.dtype, Y.shape, Y.dtype"
   ]
  },
  {
   "cell_type": "code",
   "execution_count": 12,
   "id": "0d0153f3",
   "metadata": {},
   "outputs": [],
   "source": [
    "# build the dataset\n",
    "\n",
    "block_size = 3 # context length: how many characters do we take to predict the next one?\n",
    "X, Y = [], []\n",
    "for w in words:\n",
    "    #print(w)\n",
    "    context = [0] * block_size\n",
    "    \n",
    "    for ch in w + '.':\n",
    "        #print(''.join(itos[i] for i in context), '--->', ch)\n",
    "        \n",
    "        X.append(context)\n",
    "        Y.append(stoi[ch])\n",
    "        context = context[1:] + [stoi[ch]] # crop and append\n",
    "        \n",
    "X = torch.tensor(X)\n",
    "Y = torch.tensor(Y)  "
   ]
  },
  {
   "cell_type": "code",
   "execution_count": 13,
   "id": "699e2efc",
   "metadata": {},
   "outputs": [
    {
     "data": {
      "text/plain": [
       "(torch.Size([228146, 3]), torch.Size([228146]))"
      ]
     },
     "execution_count": 13,
     "metadata": {},
     "output_type": "execute_result"
    }
   ],
   "source": [
    "X.shape, Y.shape"
   ]
  },
  {
   "cell_type": "code",
   "execution_count": 14,
   "id": "1749c5c6",
   "metadata": {},
   "outputs": [],
   "source": [
    "def build_dataset(words):\n",
    "    # build the dataset\n",
    "    X, Y = [], []\n",
    "    for w in words:\n",
    "        #print(w)\n",
    "        context = [0] * block_size\n",
    "\n",
    "        for ch in w + '.':\n",
    "            #print(''.join(itos[i] for i in context), '--->', ch)\n",
    "            \n",
    "            X.append(context)\n",
    "            Y.append(stoi[ch])\n",
    "            context = context[1:] + [stoi[ch]] # crop and append\n",
    "\n",
    "    X = torch.tensor(X)\n",
    "    Y = torch.tensor(Y)\n",
    "    print(X.shape, Y.shape)\n",
    "    return X, Y\n",
    "    "
   ]
  },
  {
   "cell_type": "code",
   "execution_count": 15,
   "id": "89d9cffc",
   "metadata": {},
   "outputs": [
    {
     "data": {
      "text/plain": [
       "tensor([[ 1.9269,  1.4873],\n",
       "        [ 0.9007, -2.1055],\n",
       "        [ 0.6784, -1.2345],\n",
       "        [-0.0431, -1.6047],\n",
       "        [-0.7521,  1.6487],\n",
       "        [-0.3925, -1.4036],\n",
       "        [-0.7279, -0.5594],\n",
       "        [-0.7688,  0.7624],\n",
       "        [ 1.6423, -0.1596],\n",
       "        [-0.4974,  0.4396],\n",
       "        [-0.7581,  1.0783],\n",
       "        [ 0.8008,  1.6806],\n",
       "        [ 1.2791,  1.2964],\n",
       "        [ 0.6105,  1.3347],\n",
       "        [-0.2316,  0.0418],\n",
       "        [-0.2516,  0.8599],\n",
       "        [-1.3847, -0.8712],\n",
       "        [-0.2234,  1.7174],\n",
       "        [ 0.3189, -0.4245],\n",
       "        [-0.8140, -0.7360],\n",
       "        [-0.8371, -0.9224],\n",
       "        [ 1.8113,  0.1606],\n",
       "        [ 0.3672,  0.1754],\n",
       "        [-1.1845,  1.3835],\n",
       "        [-1.2024,  0.7078],\n",
       "        [-1.0759,  0.5357],\n",
       "        [ 1.1754,  0.5612]])"
      ]
     },
     "execution_count": 15,
     "metadata": {},
     "output_type": "execute_result"
    }
   ],
   "source": [
    "torch.manual_seed(42)\n",
    "\n",
    "C = torch.randn((27, 2)) # Embedding Lookup Table C\n",
    "C"
   ]
  },
  {
   "cell_type": "code",
   "execution_count": 16,
   "id": "3b2540be",
   "metadata": {},
   "outputs": [
    {
     "data": {
      "text/plain": [
       "tensor(1.6487)"
      ]
     },
     "execution_count": 16,
     "metadata": {},
     "output_type": "execute_result"
    }
   ],
   "source": [
    "C[4, 1]# How do we index all the (228146, 3) elements stored in X simultaneously???"
   ]
  },
  {
   "cell_type": "code",
   "execution_count": 17,
   "id": "567938ee",
   "metadata": {},
   "outputs": [
    {
     "data": {
      "text/plain": [
       "tensor([-0.7521,  1.6487])"
      ]
     },
     "execution_count": 17,
     "metadata": {},
     "output_type": "execute_result"
    }
   ],
   "source": [
    "C[4]"
   ]
  },
  {
   "cell_type": "code",
   "execution_count": 18,
   "id": "9a4d61bb",
   "metadata": {},
   "outputs": [
    {
     "data": {
      "text/plain": [
       "tensor([[-0.7521,  1.6487],\n",
       "        [-0.3925, -1.4036],\n",
       "        [-0.7279, -0.5594]])"
      ]
     },
     "execution_count": 18,
     "metadata": {},
     "output_type": "execute_result"
    }
   ],
   "source": [
    "C[[4, 5, 6]]"
   ]
  },
  {
   "cell_type": "code",
   "execution_count": 19,
   "id": "aa5a6a34",
   "metadata": {},
   "outputs": [
    {
     "data": {
      "text/plain": [
       "tensor([[-0.7521,  1.6487],\n",
       "        [-0.3925, -1.4036],\n",
       "        [-0.7279, -0.5594]])"
      ]
     },
     "execution_count": 19,
     "metadata": {},
     "output_type": "execute_result"
    }
   ],
   "source": [
    "C[torch.tensor([4, 5, 6])]"
   ]
  },
  {
   "cell_type": "code",
   "execution_count": 20,
   "id": "f49fbd98",
   "metadata": {},
   "outputs": [
    {
     "data": {
      "text/plain": [
       "tensor([-0.7521, -0.3925, -0.7279])"
      ]
     },
     "execution_count": 20,
     "metadata": {},
     "output_type": "execute_result"
    }
   ],
   "source": [
    "C[[4, 5, 6], [0, 0, 0]] # C[4,0] C[5,0] C[6, 0]"
   ]
  },
  {
   "cell_type": "code",
   "execution_count": 21,
   "id": "b27266f6",
   "metadata": {},
   "outputs": [
    {
     "data": {
      "text/plain": [
       "tensor([-0.7521, -0.3925, -0.7279])"
      ]
     },
     "execution_count": 21,
     "metadata": {},
     "output_type": "execute_result"
    }
   ],
   "source": [
    "C[torch.tensor([4, 5, 6]), torch.tensor([0, 0, 0])]"
   ]
  },
  {
   "cell_type": "code",
   "execution_count": 22,
   "id": "e767ca2e",
   "metadata": {},
   "outputs": [
    {
     "data": {
      "text/plain": [
       "tensor([-0.7521, -0.3925, -0.7279])"
      ]
     },
     "execution_count": 22,
     "metadata": {},
     "output_type": "execute_result"
    }
   ],
   "source": [
    "C[ [[4, 5, 6],\n",
    "    [0, 0, 0]] ]"
   ]
  },
  {
   "cell_type": "code",
   "execution_count": 23,
   "id": "8916da2c",
   "metadata": {},
   "outputs": [
    {
     "data": {
      "text/plain": [
       "tensor([[[-0.7521,  1.6487],\n",
       "         [-0.3925, -1.4036],\n",
       "         [-0.7279, -0.5594]],\n",
       "\n",
       "        [[ 1.9269,  1.4873],\n",
       "         [ 1.9269,  1.4873],\n",
       "         [ 1.9269,  1.4873]]])"
      ]
     },
     "execution_count": 23,
     "metadata": {},
     "output_type": "execute_result"
    }
   ],
   "source": [
    "C[ torch.tensor([[4, 5, 6],\n",
    "                 [0, 0, 0]]) ]"
   ]
  },
  {
   "cell_type": "code",
   "execution_count": 24,
   "id": "e8fb4657",
   "metadata": {},
   "outputs": [
    {
     "data": {
      "text/plain": [
       "tensor([[ 0,  0,  0],\n",
       "        [ 0,  0,  5],\n",
       "        [ 0,  5, 13],\n",
       "        [ 5, 13, 13],\n",
       "        [13, 13,  1]])"
      ]
     },
     "execution_count": 24,
     "metadata": {},
     "output_type": "execute_result"
    }
   ],
   "source": [
    "X[:5]"
   ]
  },
  {
   "cell_type": "code",
   "execution_count": 25,
   "id": "0b898b99",
   "metadata": {},
   "outputs": [
    {
     "data": {
      "text/plain": [
       "tensor([[ 0,  0,  0],\n",
       "        [ 0,  0,  5],\n",
       "        [ 0,  5, 13],\n",
       "        [ 5, 13, 13],\n",
       "        [13, 13,  1]])"
      ]
     },
     "execution_count": 25,
     "metadata": {},
     "output_type": "execute_result"
    }
   ],
   "source": [
    "X[[0, 1, 2, 3, 4]]"
   ]
  },
  {
   "cell_type": "code",
   "execution_count": 26,
   "id": "367185fb",
   "metadata": {},
   "outputs": [
    {
     "data": {
      "text/plain": [
       "tensor([[[ 1.9269,  1.4873],\n",
       "         [ 1.9269,  1.4873],\n",
       "         [ 1.9269,  1.4873]],\n",
       "\n",
       "        [[ 1.9269,  1.4873],\n",
       "         [ 1.9269,  1.4873],\n",
       "         [-0.3925, -1.4036]],\n",
       "\n",
       "        [[ 1.9269,  1.4873],\n",
       "         [-0.3925, -1.4036],\n",
       "         [ 0.6105,  1.3347]],\n",
       "\n",
       "        [[-0.3925, -1.4036],\n",
       "         [ 0.6105,  1.3347],\n",
       "         [ 0.6105,  1.3347]],\n",
       "\n",
       "        [[ 0.6105,  1.3347],\n",
       "         [ 0.6105,  1.3347],\n",
       "         [ 0.9007, -2.1055]]])"
      ]
     },
     "execution_count": 26,
     "metadata": {},
     "output_type": "execute_result"
    }
   ],
   "source": [
    "C[X[:5]]"
   ]
  },
  {
   "cell_type": "code",
   "execution_count": 27,
   "id": "e60ccf8c",
   "metadata": {},
   "outputs": [
    {
     "data": {
      "text/plain": [
       "(torch.Size([5, 3]), torch.Size([5, 3, 2]))"
      ]
     },
     "execution_count": 27,
     "metadata": {},
     "output_type": "execute_result"
    }
   ],
   "source": [
    "X[:5].shape, C[X[:5]].shape"
   ]
  },
  {
   "cell_type": "code",
   "execution_count": 28,
   "id": "00eca33e",
   "metadata": {},
   "outputs": [
    {
     "data": {
      "text/plain": [
       "torch.Size([228146, 3])"
      ]
     },
     "execution_count": 28,
     "metadata": {},
     "output_type": "execute_result"
    }
   ],
   "source": [
    "X.shape"
   ]
  },
  {
   "cell_type": "code",
   "execution_count": 29,
   "id": "2427bb03",
   "metadata": {},
   "outputs": [
    {
     "data": {
      "text/plain": [
       "torch.Size([228146, 3, 2])"
      ]
     },
     "execution_count": 29,
     "metadata": {},
     "output_type": "execute_result"
    }
   ],
   "source": [
    "emb = C[X]\n",
    "emb.shape"
   ]
  },
  {
   "cell_type": "code",
   "execution_count": 30,
   "id": "9cc249ae",
   "metadata": {},
   "outputs": [],
   "source": [
    "W1 = torch.randn((6, 100))\n",
    "b1 = torch.randn(100)"
   ]
  },
  {
   "cell_type": "code",
   "execution_count": 31,
   "id": "9052c064",
   "metadata": {},
   "outputs": [],
   "source": [
    "#emb @ W1 + b1 # error dimension mismatch! "
   ]
  },
  {
   "cell_type": "code",
   "execution_count": 32,
   "id": "963bc1c5",
   "metadata": {},
   "outputs": [
    {
     "data": {
      "text/plain": [
       "tensor([ 0,  1,  2,  3,  4,  5,  6,  7,  8,  9, 10, 11, 12, 13, 14, 15, 16, 17])"
      ]
     },
     "execution_count": 32,
     "metadata": {},
     "output_type": "execute_result"
    }
   ],
   "source": [
    "a = torch.arange(18) # similar to numpy arange\n",
    "a"
   ]
  },
  {
   "cell_type": "code",
   "execution_count": 33,
   "id": "d96c7693",
   "metadata": {},
   "outputs": [
    {
     "data": {
      "text/plain": [
       "torch.Size([18])"
      ]
     },
     "execution_count": 33,
     "metadata": {},
     "output_type": "execute_result"
    }
   ],
   "source": [
    "a.shape"
   ]
  },
  {
   "cell_type": "code",
   "execution_count": 34,
   "id": "23f6461d",
   "metadata": {},
   "outputs": [
    {
     "data": {
      "text/plain": [
       "tensor([[ 0,  1,  2,  3,  4,  5,  6,  7,  8],\n",
       "        [ 9, 10, 11, 12, 13, 14, 15, 16, 17]])"
      ]
     },
     "execution_count": 34,
     "metadata": {},
     "output_type": "execute_result"
    }
   ],
   "source": [
    "a.view((2, 9))"
   ]
  },
  {
   "cell_type": "code",
   "execution_count": 35,
   "id": "11d952bb",
   "metadata": {},
   "outputs": [
    {
     "data": {
      "text/plain": [
       "tensor([[ 0,  1],\n",
       "        [ 2,  3],\n",
       "        [ 4,  5],\n",
       "        [ 6,  7],\n",
       "        [ 8,  9],\n",
       "        [10, 11],\n",
       "        [12, 13],\n",
       "        [14, 15],\n",
       "        [16, 17]])"
      ]
     },
     "execution_count": 35,
     "metadata": {},
     "output_type": "execute_result"
    }
   ],
   "source": [
    "a.view((9, 2))"
   ]
  },
  {
   "cell_type": "code",
   "execution_count": 36,
   "id": "de562255",
   "metadata": {},
   "outputs": [
    {
     "data": {
      "text/plain": [
       "tensor([[[ 0,  1],\n",
       "         [ 2,  3],\n",
       "         [ 4,  5]],\n",
       "\n",
       "        [[ 6,  7],\n",
       "         [ 8,  9],\n",
       "         [10, 11]],\n",
       "\n",
       "        [[12, 13],\n",
       "         [14, 15],\n",
       "         [16, 17]]])"
      ]
     },
     "execution_count": 36,
     "metadata": {},
     "output_type": "execute_result"
    }
   ],
   "source": [
    "a.view((3, 3, 2)) # torch view is efficient !!! No memory is being changed, copied, moved or created !!!!"
   ]
  },
  {
   "cell_type": "code",
   "execution_count": 37,
   "id": "20e6c2d9",
   "metadata": {},
   "outputs": [
    {
     "name": "stderr",
     "output_type": "stream",
     "text": [
      "/tmp/ipykernel_54870/411853419.py:1: UserWarning: TypedStorage is deprecated. It will be removed in the future and UntypedStorage will be the only storage class. This should only matter to you if you are using storages directly.  To access UntypedStorage directly, use tensor.untyped_storage() instead of tensor.storage()\n",
      "  a.storage() # this is how it is stored in the memory, always a one dimensional vector!\n"
     ]
    },
    {
     "data": {
      "text/plain": [
       " 0\n",
       " 1\n",
       " 2\n",
       " 3\n",
       " 4\n",
       " 5\n",
       " 6\n",
       " 7\n",
       " 8\n",
       " 9\n",
       " 10\n",
       " 11\n",
       " 12\n",
       " 13\n",
       " 14\n",
       " 15\n",
       " 16\n",
       " 17\n",
       "[torch.storage.TypedStorage(dtype=torch.int64, device=cpu) of size 18]"
      ]
     },
     "execution_count": 37,
     "metadata": {},
     "output_type": "execute_result"
    }
   ],
   "source": [
    "a.storage() # this is how it is stored in the memory, always a one dimensional vector!"
   ]
  },
  {
   "cell_type": "code",
   "execution_count": 38,
   "id": "3c8383e4",
   "metadata": {},
   "outputs": [
    {
     "data": {
      "text/plain": [
       "tensor([[ 1.9269,  1.4873,  1.9269,  1.4873,  1.9269,  1.4873],\n",
       "        [ 1.9269,  1.4873,  1.9269,  1.4873, -0.3925, -1.4036],\n",
       "        [ 1.9269,  1.4873, -0.3925, -1.4036,  0.6105,  1.3347],\n",
       "        ...,\n",
       "        [ 1.1754,  0.5612,  1.1754,  0.5612, -1.0759,  0.5357],\n",
       "        [ 1.1754,  0.5612, -1.0759,  0.5357,  1.1754,  0.5612],\n",
       "        [-1.0759,  0.5357,  1.1754,  0.5612, -1.2024,  0.7078]])"
      ]
     },
     "execution_count": 38,
     "metadata": {},
     "output_type": "execute_result"
    }
   ],
   "source": [
    "emb.view(228146, 6)"
   ]
  },
  {
   "cell_type": "code",
   "execution_count": 39,
   "id": "1595225b",
   "metadata": {},
   "outputs": [
    {
     "data": {
      "text/plain": [
       "tensor([[ 1.9269,  1.4873,  1.9269,  1.4873,  1.9269,  1.4873],\n",
       "        [ 1.9269,  1.4873,  1.9269,  1.4873, -0.3925, -1.4036],\n",
       "        [ 1.9269,  1.4873, -0.3925, -1.4036,  0.6105,  1.3347],\n",
       "        ...,\n",
       "        [ 1.1754,  0.5612,  1.1754,  0.5612, -1.0759,  0.5357],\n",
       "        [ 1.1754,  0.5612, -1.0759,  0.5357,  1.1754,  0.5612],\n",
       "        [-1.0759,  0.5357,  1.1754,  0.5612, -1.2024,  0.7078]])"
      ]
     },
     "execution_count": 39,
     "metadata": {},
     "output_type": "execute_result"
    }
   ],
   "source": [
    "emb.view(-1, 6)"
   ]
  },
  {
   "cell_type": "code",
   "execution_count": 40,
   "id": "07c51cbe",
   "metadata": {},
   "outputs": [],
   "source": [
    "h = torch.tanh(emb.view(-1, 6) @ W1 + b1) # Broadcasting !!!"
   ]
  },
  {
   "cell_type": "code",
   "execution_count": 41,
   "id": "309aaa0d",
   "metadata": {},
   "outputs": [],
   "source": [
    "# 228146, 100\n",
    "#      1, 100"
   ]
  },
  {
   "cell_type": "code",
   "execution_count": 42,
   "id": "862ae8ec",
   "metadata": {},
   "outputs": [
    {
     "data": {
      "text/plain": [
       "tensor([[-1.0000, -0.0952, -0.8826,  ..., -0.9805,  0.9999, -0.9924],\n",
       "        [-0.9999,  0.9966, -0.9795,  ...,  0.9987,  0.9962, -0.9689],\n",
       "        [-0.8859,  0.9999, -0.9917,  ..., -1.0000,  0.9999, -0.7269],\n",
       "        ...,\n",
       "        [-0.9756,  0.9968, -0.8259,  ...,  0.2477,  0.9976, -0.9044],\n",
       "        [-0.5934,  0.0428,  0.9751,  ..., -0.9999,  0.9889, -0.8700],\n",
       "        [ 0.3151,  0.4496, -0.8939,  ...,  0.9866,  0.8715, -0.6865]])"
      ]
     },
     "execution_count": 42,
     "metadata": {},
     "output_type": "execute_result"
    }
   ],
   "source": [
    "h # numbers are between -1 to +1 becasue of tanh"
   ]
  },
  {
   "cell_type": "code",
   "execution_count": 43,
   "id": "06f66e45",
   "metadata": {},
   "outputs": [
    {
     "data": {
      "text/plain": [
       "torch.Size([228146, 100])"
      ]
     },
     "execution_count": 43,
     "metadata": {},
     "output_type": "execute_result"
    }
   ],
   "source": [
    "h.shape"
   ]
  },
  {
   "cell_type": "code",
   "execution_count": 44,
   "id": "5618443b",
   "metadata": {},
   "outputs": [],
   "source": [
    "W2 = torch.randn((100, 27))\n",
    "b2 = torch.randn(27)"
   ]
  },
  {
   "cell_type": "code",
   "execution_count": 45,
   "id": "465e99dd",
   "metadata": {},
   "outputs": [],
   "source": [
    "logits = h @ W2 + b2"
   ]
  },
  {
   "cell_type": "code",
   "execution_count": 46,
   "id": "b069d38d",
   "metadata": {},
   "outputs": [
    {
     "data": {
      "text/plain": [
       "torch.Size([228146, 27])"
      ]
     },
     "execution_count": 46,
     "metadata": {},
     "output_type": "execute_result"
    }
   ],
   "source": [
    "logits.shape"
   ]
  },
  {
   "cell_type": "code",
   "execution_count": 47,
   "id": "daffba43",
   "metadata": {},
   "outputs": [],
   "source": [
    "counts = logits.exp()"
   ]
  },
  {
   "cell_type": "code",
   "execution_count": 48,
   "id": "96ee9d57",
   "metadata": {},
   "outputs": [
    {
     "data": {
      "text/plain": [
       "torch.Size([228146, 27])"
      ]
     },
     "execution_count": 48,
     "metadata": {},
     "output_type": "execute_result"
    }
   ],
   "source": [
    "counts.shape"
   ]
  },
  {
   "cell_type": "code",
   "execution_count": 49,
   "id": "4b8e7ae8",
   "metadata": {},
   "outputs": [],
   "source": [
    "prob = counts / counts.sum(1, keepdims=True) # Broadcasting !!!"
   ]
  },
  {
   "cell_type": "code",
   "execution_count": 50,
   "id": "d9a5857b",
   "metadata": {},
   "outputs": [],
   "source": [
    "# 228146, 27\n",
    "# 228146, 1"
   ]
  },
  {
   "cell_type": "code",
   "execution_count": 51,
   "id": "21bd9375",
   "metadata": {},
   "outputs": [
    {
     "data": {
      "text/plain": [
       "torch.Size([228146, 27])"
      ]
     },
     "execution_count": 51,
     "metadata": {},
     "output_type": "execute_result"
    }
   ],
   "source": [
    "prob.shape"
   ]
  },
  {
   "cell_type": "code",
   "execution_count": 52,
   "id": "be6d8a91",
   "metadata": {},
   "outputs": [
    {
     "data": {
      "text/plain": [
       "tensor(1.)"
      ]
     },
     "execution_count": 52,
     "metadata": {},
     "output_type": "execute_result"
    }
   ],
   "source": [
    "prob[0].sum()"
   ]
  },
  {
   "cell_type": "code",
   "execution_count": 53,
   "id": "3f06ac57",
   "metadata": {},
   "outputs": [
    {
     "data": {
      "text/plain": [
       "tensor([1.0565e-14, 5.9216e-09, 1.0465e-07, 9.6370e-09, 3.9093e-09, 3.9442e-06,\n",
       "        1.4996e-10, 8.9523e-09, 3.4375e-09, 1.1670e-10, 1.0833e-08, 4.7273e-12,\n",
       "        2.1508e-09, 1.5725e-12, 2.6499e-08, 5.5856e-12, 6.6597e-12, 8.3677e-20,\n",
       "        7.0530e-15, 1.5817e-03, 1.5864e-11, 1.2220e-09, 9.9809e-01, 6.8203e-08,\n",
       "        4.8900e-08, 7.9697e-09, 3.2232e-04])"
      ]
     },
     "execution_count": 53,
     "metadata": {},
     "output_type": "execute_result"
    }
   ],
   "source": [
    "prob[0]"
   ]
  },
  {
   "cell_type": "code",
   "execution_count": 54,
   "id": "e3a76beb",
   "metadata": {},
   "outputs": [
    {
     "data": {
      "text/plain": [
       "torch.Size([228146])"
      ]
     },
     "execution_count": 54,
     "metadata": {},
     "output_type": "execute_result"
    }
   ],
   "source": [
    "Y.shape"
   ]
  },
  {
   "cell_type": "code",
   "execution_count": 55,
   "id": "4ab8deaa",
   "metadata": {},
   "outputs": [
    {
     "data": {
      "text/plain": [
       "tensor(5)"
      ]
     },
     "execution_count": 55,
     "metadata": {},
     "output_type": "execute_result"
    }
   ],
   "source": [
    "Y[0]"
   ]
  },
  {
   "cell_type": "code",
   "execution_count": 56,
   "id": "ad437e4a",
   "metadata": {},
   "outputs": [
    {
     "data": {
      "text/plain": [
       "tensor(3.9442e-06)"
      ]
     },
     "execution_count": 56,
     "metadata": {},
     "output_type": "execute_result"
    }
   ],
   "source": [
    "prob[0, Y[0]] # ... -> e"
   ]
  },
  {
   "cell_type": "code",
   "execution_count": 57,
   "id": "388617ea",
   "metadata": {},
   "outputs": [
    {
     "data": {
      "text/plain": [
       "tensor(2.0893e-07)"
      ]
     },
     "execution_count": 57,
     "metadata": {},
     "output_type": "execute_result"
    }
   ],
   "source": [
    "prob[1, Y[1]] # ..e -> m"
   ]
  },
  {
   "cell_type": "code",
   "execution_count": 58,
   "id": "f3bcc851",
   "metadata": {},
   "outputs": [
    {
     "data": {
      "text/plain": [
       "tensor([3.9442e-06, 2.0893e-07, 4.6413e-11,  ..., 1.5921e-05, 4.8822e-09,\n",
       "        1.5415e-12])"
      ]
     },
     "execution_count": 58,
     "metadata": {},
     "output_type": "execute_result"
    }
   ],
   "source": [
    "prob[torch.arange(228146), Y]"
   ]
  },
  {
   "cell_type": "code",
   "execution_count": 59,
   "id": "9085d715",
   "metadata": {},
   "outputs": [
    {
     "data": {
      "text/plain": [
       "torch.Size([228146])"
      ]
     },
     "execution_count": 59,
     "metadata": {},
     "output_type": "execute_result"
    }
   ],
   "source": [
    "prob[torch.arange(228146), Y].shape"
   ]
  },
  {
   "cell_type": "code",
   "execution_count": 60,
   "id": "9f980748",
   "metadata": {},
   "outputs": [
    {
     "data": {
      "text/plain": [
       "tensor(16.7265)"
      ]
     },
     "execution_count": 60,
     "metadata": {},
     "output_type": "execute_result"
    }
   ],
   "source": [
    "loss = -prob[torch.arange(228146), Y].log().mean()\n",
    "loss"
   ]
  },
  {
   "cell_type": "code",
   "execution_count": 61,
   "id": "b0038029",
   "metadata": {},
   "outputs": [
    {
     "data": {
      "text/plain": [
       "3481"
      ]
     },
     "execution_count": 61,
     "metadata": {},
     "output_type": "execute_result"
    }
   ],
   "source": [
    "sum(p.nelement() for p in [C, W1, b1, W2, b2])"
   ]
  },
  {
   "cell_type": "code",
   "execution_count": 62,
   "id": "9b6d345f",
   "metadata": {},
   "outputs": [
    {
     "data": {
      "text/plain": [
       "[54, 600, 100, 2700, 27]"
      ]
     },
     "execution_count": 62,
     "metadata": {},
     "output_type": "execute_result"
    }
   ],
   "source": [
    "[p.nelement() for p in [C, W1, b1, W2, b2]]"
   ]
  },
  {
   "cell_type": "code",
   "execution_count": 63,
   "id": "6b454a6c",
   "metadata": {},
   "outputs": [
    {
     "data": {
      "text/plain": [
       "tensor(16.7265)"
      ]
     },
     "execution_count": 63,
     "metadata": {},
     "output_type": "execute_result"
    }
   ],
   "source": [
    "#counts = logits.exp()\n",
    "#prob = counts / counts.sum(1, keepdims=True)\n",
    "#loss = -prob[torch.arange(228146), Y].log().mean()\n",
    "loss = F.cross_entropy(logits, Y) # Much more efficient !!! (1) does not create extra tensors (uses fused kernel for clustered mathematical operations) (2) the backwardpass is much more efficient \n",
    "loss"
   ]
  },
  {
   "cell_type": "code",
   "execution_count": 64,
   "id": "75b495dd",
   "metadata": {},
   "outputs": [
    {
     "data": {
      "text/plain": [
       "tensor([3.7835e-44, 4.9787e-02, 1.0000e+00, 2.0086e+01,        inf])"
      ]
     },
     "execution_count": 64,
     "metadata": {},
     "output_type": "execute_result"
    }
   ],
   "source": [
    "torch.tensor([-100, -3, 0, 3, 100]).exp()"
   ]
  },
  {
   "cell_type": "code",
   "execution_count": 65,
   "id": "73dbde82",
   "metadata": {},
   "outputs": [
    {
     "data": {
      "text/plain": [
       "(torch.Size([228146, 27]), torch.Size([228146]))"
      ]
     },
     "execution_count": 65,
     "metadata": {},
     "output_type": "execute_result"
    }
   ],
   "source": [
    "logits.shape, Y.shape"
   ]
  },
  {
   "cell_type": "code",
   "execution_count": 66,
   "id": "1f6ea121",
   "metadata": {},
   "outputs": [],
   "source": [
    "parameters = [C, W1, b1, W2, b2]"
   ]
  },
  {
   "cell_type": "code",
   "execution_count": 67,
   "id": "694ee1c4",
   "metadata": {},
   "outputs": [],
   "source": [
    "for p in parameters:\n",
    "    p.requires_grad = True"
   ]
  },
  {
   "cell_type": "code",
   "execution_count": 68,
   "id": "a8f5c319",
   "metadata": {},
   "outputs": [
    {
     "name": "stdout",
     "output_type": "stream",
     "text": [
      "16.726470947265625\n"
     ]
    }
   ],
   "source": [
    "#forward pass\n",
    "emb = C[X] # (228146, 3, 2)\n",
    "h = torch.tanh(emb.view(-1, 6) @ W1 + b1) # (228146, 100)\n",
    "logits = h @ W2 + b2 # (228146, 27)\n",
    "loss = F.cross_entropy(logits, Y)\n",
    "print(loss.item())\n",
    "\n",
    "#backward pass\n",
    "for p in parameters:\n",
    "    p.grad = None\n",
    "loss.backward()\n",
    "\n",
    "#update\n",
    "for p in parameters:\n",
    "    p.data += -0.1 * p.grad"
   ]
  },
  {
   "cell_type": "code",
   "execution_count": 69,
   "id": "490ba1a0",
   "metadata": {},
   "outputs": [
    {
     "name": "stdout",
     "output_type": "stream",
     "text": [
      "14.942935943603516\n",
      "13.863014221191406\n",
      "13.003832817077637\n",
      "12.292206764221191\n",
      "11.732643127441406\n",
      "11.270576477050781\n",
      "10.859724044799805\n",
      "10.47972583770752\n",
      "10.136445045471191\n",
      "9.829899787902832\n"
     ]
    }
   ],
   "source": [
    "for _ in range(10):\n",
    "    #forward pass\n",
    "    emb = C[X] # (228146, 3, 2)\n",
    "    h = torch.tanh(emb.view(-1, 6) @ W1 + b1) # (228146, 100)\n",
    "    logits = h @ W2 + b2 # (228146, 27)\n",
    "    loss = F.cross_entropy(logits, Y)\n",
    "    print(loss.item())\n",
    "\n",
    "    #backward pass\n",
    "    for p in parameters:\n",
    "        p.grad = None\n",
    "    loss.backward()\n",
    "\n",
    "    #update\n",
    "    for p in parameters:\n",
    "        p.data += -0.1 * p.grad"
   ]
  },
  {
   "cell_type": "code",
   "execution_count": 70,
   "id": "7e9e6420",
   "metadata": {},
   "outputs": [
    {
     "name": "stdout",
     "output_type": "stream",
     "text": [
      "9.552258491516113\n",
      "9.297033309936523\n",
      "9.060535430908203\n",
      "8.8405122756958\n",
      "8.635115623474121\n",
      "8.442388534545898\n",
      "8.26041316986084\n",
      "8.08758544921875\n",
      "7.922695159912109\n",
      "7.764856338500977\n",
      "7.613430023193359\n",
      "7.467940807342529\n",
      "7.3280181884765625\n",
      "7.193356513977051\n",
      "7.063699245452881\n",
      "6.938806056976318\n",
      "6.818453311920166\n",
      "6.702425003051758\n",
      "6.590517520904541\n",
      "6.4825439453125\n",
      "6.37833833694458\n",
      "6.2777557373046875\n",
      "6.180682182312012\n",
      "6.087017059326172\n",
      "5.996676921844482\n",
      "5.909582138061523\n",
      "5.825644493103027\n",
      "5.744768142700195\n",
      "5.666841983795166\n",
      "5.591744422912598\n",
      "5.519344329833984\n",
      "5.449515342712402\n",
      "5.38212776184082\n",
      "5.317066669464111\n",
      "5.254222393035889\n",
      "5.193492889404297\n",
      "5.134782791137695\n",
      "5.07799768447876\n",
      "5.0230512619018555\n",
      "4.969855308532715\n",
      "4.918332099914551\n",
      "4.868404388427734\n",
      "4.820005416870117\n",
      "4.773071765899658\n",
      "4.727546691894531\n",
      "4.683380603790283\n",
      "4.640527725219727\n",
      "4.598946571350098\n",
      "4.558600902557373\n",
      "4.519454479217529\n",
      "4.481473445892334\n",
      "4.4446282386779785\n",
      "4.408886432647705\n",
      "4.374215602874756\n",
      "4.340587139129639\n",
      "4.307969570159912\n",
      "4.276331424713135\n",
      "4.245641708374023\n",
      "4.215870380401611\n",
      "4.18698787689209\n",
      "4.158963680267334\n",
      "4.131769180297852\n",
      "4.10537576675415\n",
      "4.079757213592529\n",
      "4.0548858642578125\n",
      "4.030735969543457\n",
      "4.007283687591553\n",
      "3.9845035076141357\n",
      "3.9623727798461914\n",
      "3.940866708755493\n",
      "3.9199635982513428\n",
      "3.899641513824463\n",
      "3.879878520965576\n",
      "3.8606536388397217\n",
      "3.8419463634490967\n",
      "3.8237361907958984\n",
      "3.8060038089752197\n",
      "3.788731336593628\n",
      "3.7718989849090576\n",
      "3.75549054145813\n",
      "3.7394871711730957\n",
      "3.723874568939209\n",
      "3.7086355686187744\n",
      "3.6937553882598877\n",
      "3.67922043800354\n",
      "3.665015935897827\n",
      "3.6511290073394775\n",
      "3.6375479698181152\n",
      "3.6242592334747314\n",
      "3.611252784729004\n",
      "3.5985169410705566\n",
      "3.5860424041748047\n",
      "3.5738184452056885\n",
      "3.5618364810943604\n",
      "3.5500879287719727\n",
      "3.538564443588257\n",
      "3.5272583961486816\n",
      "3.516162395477295\n",
      "3.50527024269104\n",
      "3.494574546813965\n"
     ]
    }
   ],
   "source": [
    "for _ in range(100):\n",
    "    #forward pass\n",
    "    emb = C[X] # (228146, 3, 2)\n",
    "    h = torch.tanh(emb.view(-1, 6) @ W1 + b1) # (228146, 100)\n",
    "    logits = h @ W2 + b2 # (228146, 27)\n",
    "    loss = F.cross_entropy(logits, Y)\n",
    "    print(loss.item())\n",
    "\n",
    "    #backward pass\n",
    "    for p in parameters:\n",
    "        p.grad = None\n",
    "    loss.backward()\n",
    "\n",
    "    #update\n",
    "    for p in parameters:\n",
    "        p.data += -0.1 * p.grad    "
   ]
  },
  {
   "cell_type": "code",
   "execution_count": 71,
   "id": "94bc3a48",
   "metadata": {},
   "outputs": [
    {
     "name": "stdout",
     "output_type": "stream",
     "text": [
      "2.5901143550872803\n"
     ]
    }
   ],
   "source": [
    "for _ in range(500): # takes a few minutes\n",
    "    #forward pass\n",
    "    emb = C[X] # (228146, 3, 2)\n",
    "    h = torch.tanh(emb.view(-1, 6) @ W1 + b1) # (228146, 100)\n",
    "    logits = h @ W2 + b2 # (228146, 27)\n",
    "    loss = F.cross_entropy(logits, Y)\n",
    "    #print(loss.item())\n",
    "\n",
    "    #backward pass\n",
    "    for p in parameters:\n",
    "        p.grad = None\n",
    "    loss.backward()\n",
    "\n",
    "    #update\n",
    "    for p in parameters:\n",
    "        p.data += -0.1 * p.grad\n",
    "        \n",
    "print(loss.item())"
   ]
  },
  {
   "cell_type": "code",
   "execution_count": 72,
   "id": "17b65b2a",
   "metadata": {},
   "outputs": [],
   "source": [
    "# STOCHASTIC GRADIENT DESCENT"
   ]
  },
  {
   "cell_type": "code",
   "execution_count": 73,
   "id": "3a275c2b",
   "metadata": {},
   "outputs": [
    {
     "data": {
      "text/plain": [
       "tensor([218297,  31771, 214485, 126310, 123985, 148228,  32840, 155369,  50053,\n",
       "         13188, 188659, 145653, 166224, 141332,  56434, 173263,  34176,  68681,\n",
       "        173092,   2220, 167626, 131147, 181779, 192652, 193190, 146538, 100415,\n",
       "        117292, 178209,  57920, 168904,  36704])"
      ]
     },
     "execution_count": 73,
     "metadata": {},
     "output_type": "execute_result"
    }
   ],
   "source": [
    "ix = torch.randint(0, X.shape[0], (32,))\n",
    "ix"
   ]
  },
  {
   "cell_type": "code",
   "execution_count": 74,
   "id": "4501f69c",
   "metadata": {},
   "outputs": [
    {
     "data": {
      "text/plain": [
       "torch.Size([32])"
      ]
     },
     "execution_count": 74,
     "metadata": {},
     "output_type": "execute_result"
    }
   ],
   "source": [
    "ix.shape"
   ]
  },
  {
   "cell_type": "code",
   "execution_count": 75,
   "id": "78caad20",
   "metadata": {},
   "outputs": [
    {
     "name": "stdout",
     "output_type": "stream",
     "text": [
      "2.3708651065826416\n"
     ]
    }
   ],
   "source": [
    "for _ in range(1000):\n",
    "    # minibatch construct\n",
    "    ix = torch.randint(0, X.shape[0], (32,))\n",
    "    \n",
    "    #forward pass\n",
    "    emb = C[X[ix]] # (32, 3, 2)\n",
    "    h = torch.tanh(emb.view(-1, 6) @ W1 + b1) # (32, 100)\n",
    "    logits = h @ W2 + b2 # (32, 27)\n",
    "    loss = F.cross_entropy(logits, Y[ix]) ###\n",
    "    #print(loss.item())\n",
    "\n",
    "    #backward pass\n",
    "    for p in parameters:\n",
    "        p.grad = None\n",
    "    loss.backward()\n",
    "\n",
    "    #update\n",
    "    for p in parameters:\n",
    "        p.data += -0.01 * p.grad\n",
    "print(loss.item())"
   ]
  },
  {
   "cell_type": "code",
   "execution_count": 76,
   "id": "6156463b",
   "metadata": {},
   "outputs": [
    {
     "name": "stdout",
     "output_type": "stream",
     "text": [
      "2.575418710708618\n"
     ]
    }
   ],
   "source": [
    "#forward pass\n",
    "emb = C[X] # (228146, 3, 2)\n",
    "h = torch.tanh(emb.view(-1, 6) @ W1 + b1) # (228146, 100)\n",
    "logits = h @ W2 + b2 # (228146, 27)\n",
    "loss = F.cross_entropy(logits, Y)\n",
    "print(loss.item())"
   ]
  },
  {
   "cell_type": "code",
   "execution_count": 77,
   "id": "5a26485f",
   "metadata": {},
   "outputs": [],
   "source": [
    "# HOW TO FIND A GOOD LEARNING RATE"
   ]
  },
  {
   "cell_type": "code",
   "execution_count": 78,
   "id": "cb083b9e",
   "metadata": {},
   "outputs": [],
   "source": [
    "C = torch.randn((27, 2)) # Embedding Lookup Table C\n",
    "W1 = torch.randn((6, 100))\n",
    "b1 = torch.randn(100)\n",
    "W2 = torch.randn((100, 27))\n",
    "b2 = torch.randn(27)\n",
    "parameters = [C, W1, b1, W2, b2]\n",
    "\n",
    "for p in parameters:\n",
    "    p.requires_grad = True"
   ]
  },
  {
   "cell_type": "code",
   "execution_count": 79,
   "id": "25419508",
   "metadata": {},
   "outputs": [
    {
     "name": "stdout",
     "output_type": "stream",
     "text": [
      "19.356172561645508\n",
      "14.995946884155273\n",
      "17.197919845581055\n",
      "19.669862747192383\n",
      "22.31194305419922\n",
      "16.35649299621582\n",
      "17.14181137084961\n",
      "15.610760688781738\n",
      "15.92569351196289\n",
      "20.1245174407959\n",
      "19.669775009155273\n",
      "17.598628997802734\n",
      "16.866596221923828\n",
      "18.121809005737305\n",
      "19.325090408325195\n",
      "18.58799171447754\n",
      "21.06239128112793\n",
      "18.17962074279785\n",
      "20.772703170776367\n",
      "20.033565521240234\n",
      "21.24658203125\n",
      "15.31173038482666\n",
      "17.99944305419922\n",
      "15.950152397155762\n",
      "20.098445892333984\n",
      "20.697837829589844\n",
      "18.5212459564209\n",
      "18.677719116210938\n",
      "18.1627254486084\n",
      "18.380212783813477\n",
      "18.85603904724121\n",
      "19.80522346496582\n",
      "20.07737159729004\n",
      "20.715301513671875\n",
      "18.541336059570312\n",
      "16.483922958374023\n",
      "20.793777465820312\n",
      "16.924102783203125\n",
      "21.45883560180664\n",
      "18.044931411743164\n",
      "19.057476043701172\n",
      "14.566815376281738\n",
      "18.730213165283203\n",
      "18.35850715637207\n",
      "18.705888748168945\n",
      "19.181127548217773\n",
      "17.127552032470703\n",
      "17.65585708618164\n",
      "17.316282272338867\n",
      "20.11858367919922\n",
      "19.115936279296875\n",
      "20.4141845703125\n",
      "15.99462890625\n",
      "16.320934295654297\n",
      "20.32402801513672\n",
      "16.5894832611084\n",
      "21.546144485473633\n",
      "20.76866912841797\n",
      "20.282119750976562\n",
      "19.379926681518555\n",
      "18.90899658203125\n",
      "19.59002685546875\n",
      "19.063108444213867\n",
      "20.520355224609375\n",
      "20.65433692932129\n",
      "18.06755828857422\n",
      "18.332645416259766\n",
      "19.433032989501953\n",
      "16.957622528076172\n",
      "19.11552619934082\n",
      "20.885639190673828\n",
      "21.36752700805664\n",
      "19.809720993041992\n",
      "18.12411117553711\n",
      "19.613208770751953\n",
      "18.189157485961914\n",
      "16.71059799194336\n",
      "17.776010513305664\n",
      "18.02240562438965\n",
      "19.888256072998047\n",
      "19.109790802001953\n",
      "19.940797805786133\n",
      "19.754894256591797\n",
      "20.217613220214844\n",
      "20.013999938964844\n",
      "15.673792839050293\n",
      "19.64664077758789\n",
      "18.23706817626953\n",
      "20.581989288330078\n",
      "22.470972061157227\n",
      "20.624671936035156\n",
      "17.35739517211914\n",
      "20.445899963378906\n",
      "18.388551712036133\n",
      "19.02199935913086\n",
      "18.19359016418457\n",
      "19.055400848388672\n",
      "19.61989974975586\n",
      "17.406694412231445\n",
      "16.113798141479492\n"
     ]
    }
   ],
   "source": [
    "for _ in range(100):\n",
    "    # minibatch construct\n",
    "    ix = torch.randint(0, X.shape[0], (32,))\n",
    "    \n",
    "    #forward pass\n",
    "    emb = C[X[ix]] # (32, 3, 2)\n",
    "    h = torch.tanh(emb.view(-1, 6) @ W1 + b1) # (32, 100)\n",
    "    logits = h @ W2 + b2 # (32, 27)\n",
    "    loss = F.cross_entropy(logits, Y[ix]) ###\n",
    "    print(loss.item())\n",
    "\n",
    "    #backward pass\n",
    "    for p in parameters:\n",
    "        p.grad = None\n",
    "    loss.backward()\n",
    "\n",
    "    #update\n",
    "    for p in parameters:\n",
    "        p.data += -0.0001 * p.grad"
   ]
  },
  {
   "cell_type": "code",
   "execution_count": 80,
   "id": "ee9c4057",
   "metadata": {},
   "outputs": [
    {
     "name": "stdout",
     "output_type": "stream",
     "text": [
      "20.49673080444336\n",
      "19.8973445892334\n",
      "17.447147369384766\n",
      "17.192214965820312\n",
      "21.426448822021484\n",
      "18.03702163696289\n",
      "17.84856414794922\n",
      "19.77398109436035\n",
      "16.498212814331055\n",
      "18.421335220336914\n",
      "17.728036880493164\n",
      "20.035430908203125\n",
      "18.996030807495117\n",
      "21.627643585205078\n",
      "18.547115325927734\n",
      "18.337249755859375\n",
      "17.253992080688477\n",
      "20.402799606323242\n",
      "20.404699325561523\n",
      "15.442025184631348\n",
      "18.09843635559082\n",
      "18.789321899414062\n",
      "17.759521484375\n",
      "20.638851165771484\n",
      "20.03253936767578\n",
      "20.384117126464844\n",
      "18.12921905517578\n",
      "16.69814682006836\n",
      "18.897918701171875\n",
      "16.055400848388672\n",
      "20.071638107299805\n",
      "20.290443420410156\n",
      "21.221553802490234\n",
      "19.965476989746094\n",
      "19.62733268737793\n",
      "16.422300338745117\n",
      "17.241540908813477\n",
      "16.41874122619629\n",
      "14.846786499023438\n",
      "16.583181381225586\n",
      "19.643056869506836\n",
      "16.491287231445312\n",
      "17.712417602539062\n",
      "18.982269287109375\n",
      "19.004898071289062\n",
      "17.35198211669922\n",
      "19.46354103088379\n",
      "19.546066284179688\n",
      "20.544775009155273\n",
      "19.290685653686523\n",
      "17.87120819091797\n",
      "16.202775955200195\n",
      "18.983318328857422\n",
      "17.927366256713867\n",
      "15.256386756896973\n",
      "19.42613983154297\n",
      "18.53373908996582\n",
      "18.73142433166504\n",
      "20.581493377685547\n",
      "17.3631591796875\n",
      "19.993932723999023\n",
      "17.89151382446289\n",
      "15.728778839111328\n",
      "16.286821365356445\n",
      "14.950348854064941\n",
      "17.668617248535156\n",
      "18.100933074951172\n",
      "17.876890182495117\n",
      "18.236614227294922\n",
      "18.50248908996582\n",
      "18.886926651000977\n",
      "15.906341552734375\n",
      "20.586387634277344\n",
      "13.684542655944824\n",
      "15.557053565979004\n",
      "18.34365463256836\n",
      "18.323711395263672\n",
      "16.787521362304688\n",
      "14.82179069519043\n",
      "19.177858352661133\n",
      "15.152104377746582\n",
      "19.2161808013916\n",
      "18.04271125793457\n",
      "17.08346939086914\n",
      "18.793039321899414\n",
      "18.865978240966797\n",
      "21.09244155883789\n",
      "16.58745765686035\n",
      "15.765183448791504\n",
      "18.020761489868164\n",
      "18.3017635345459\n",
      "17.359464645385742\n",
      "17.87917137145996\n",
      "17.607656478881836\n",
      "14.178274154663086\n",
      "15.189971923828125\n",
      "19.12175750732422\n",
      "15.051017761230469\n",
      "18.929534912109375\n",
      "15.822820663452148\n"
     ]
    }
   ],
   "source": [
    "for _ in range(100):\n",
    "    # minibatch construct\n",
    "    ix = torch.randint(0, X.shape[0], (32,))\n",
    "    \n",
    "    #forward pass\n",
    "    emb = C[X[ix]] # (32, 3, 2)\n",
    "    h = torch.tanh(emb.view(-1, 6) @ W1 + b1) # (32, 100)\n",
    "    logits = h @ W2 + b2 # (32, 27)\n",
    "    loss = F.cross_entropy(logits, Y[ix])\n",
    "    print(loss.item())\n",
    "\n",
    "    #backward pass\n",
    "    for p in parameters:\n",
    "        p.grad = None\n",
    "    loss.backward()\n",
    "\n",
    "    #update\n",
    "    for p in parameters:\n",
    "        p.data += -0.001 * p.grad"
   ]
  },
  {
   "cell_type": "code",
   "execution_count": 81,
   "id": "327b1888",
   "metadata": {},
   "outputs": [],
   "source": [
    "C = torch.randn((27, 2)) # Embedding Lookup Table C\n",
    "W1 = torch.randn((6, 100))\n",
    "b1 = torch.randn(100)\n",
    "W2 = torch.randn((100, 27))\n",
    "b2 = torch.randn(27)\n",
    "parameters = [C, W1, b1, W2, b2]\n",
    "\n",
    "for p in parameters:\n",
    "    p.requires_grad = True"
   ]
  },
  {
   "cell_type": "code",
   "execution_count": 82,
   "id": "4e0c9841",
   "metadata": {},
   "outputs": [
    {
     "name": "stdout",
     "output_type": "stream",
     "text": [
      "13.810325622558594\n",
      "13.432079315185547\n",
      "13.110790252685547\n",
      "11.775531768798828\n",
      "15.05239200592041\n",
      "10.786239624023438\n",
      "10.879475593566895\n",
      "12.47763729095459\n",
      "8.735952377319336\n",
      "13.064627647399902\n",
      "15.428153038024902\n",
      "14.136354446411133\n",
      "15.731443405151367\n",
      "11.303995132446289\n",
      "9.270236015319824\n",
      "10.377342224121094\n",
      "11.37126636505127\n",
      "9.338531494140625\n",
      "8.970892906188965\n",
      "9.18010425567627\n",
      "10.33551025390625\n",
      "9.198982238769531\n",
      "12.870875358581543\n",
      "8.12542724609375\n",
      "8.026398658752441\n",
      "7.836054801940918\n",
      "10.72846508026123\n",
      "11.032194137573242\n",
      "9.332155227661133\n",
      "7.670738697052002\n",
      "9.122846603393555\n",
      "9.408395767211914\n",
      "9.08580207824707\n",
      "12.47726058959961\n",
      "10.56485366821289\n",
      "10.268604278564453\n",
      "10.704302787780762\n",
      "6.415073871612549\n",
      "10.313769340515137\n",
      "9.083581924438477\n",
      "7.251503944396973\n",
      "5.863508224487305\n",
      "5.240098476409912\n",
      "7.455355167388916\n",
      "9.696535110473633\n",
      "9.25543212890625\n",
      "10.603989601135254\n",
      "10.979056358337402\n",
      "6.551008224487305\n",
      "7.840120315551758\n",
      "11.192178726196289\n",
      "7.694806098937988\n",
      "6.797242641448975\n",
      "8.998385429382324\n",
      "9.319581031799316\n",
      "8.693788528442383\n",
      "8.994397163391113\n",
      "10.009330749511719\n",
      "6.375422477722168\n",
      "6.310537338256836\n",
      "11.768465042114258\n",
      "9.797286987304688\n",
      "9.11001205444336\n",
      "7.63323974609375\n",
      "9.888285636901855\n",
      "6.7720818519592285\n",
      "7.1759443283081055\n",
      "6.853201389312744\n",
      "6.1236443519592285\n",
      "6.051485061645508\n",
      "6.391845703125\n",
      "8.192361831665039\n",
      "9.122888565063477\n",
      "7.6618428230285645\n",
      "6.2805867195129395\n",
      "8.708518028259277\n",
      "10.393888473510742\n",
      "7.149099826812744\n",
      "7.582695007324219\n",
      "7.052279472351074\n",
      "7.774115085601807\n",
      "7.717945575714111\n",
      "7.101014614105225\n",
      "6.8638458251953125\n",
      "7.857909679412842\n",
      "8.033214569091797\n",
      "7.693134307861328\n",
      "9.16655158996582\n",
      "6.860199928283691\n",
      "5.070178985595703\n",
      "5.515963077545166\n",
      "8.012933731079102\n",
      "7.36220645904541\n",
      "7.977551460266113\n",
      "6.490133285522461\n",
      "7.751473426818848\n",
      "7.665395736694336\n",
      "6.073364734649658\n",
      "7.798653602600098\n",
      "6.186987400054932\n"
     ]
    }
   ],
   "source": [
    "for _ in range(100):\n",
    "    # minibatch construct\n",
    "    ix = torch.randint(0, X.shape[0], (32,))\n",
    "    \n",
    "    #forward pass\n",
    "    emb = C[X[ix]] # (32, 3, 2)\n",
    "    h = torch.tanh(emb.view(-1, 6) @ W1 + b1) # (32, 100)\n",
    "    logits = h @ W2 + b2 # (32, 27)\n",
    "    loss = F.cross_entropy(logits, Y[ix])\n",
    "    print(loss.item())\n",
    "\n",
    "    #backward pass\n",
    "    for p in parameters:\n",
    "        p.grad = None\n",
    "    loss.backward()\n",
    "\n",
    "    #update\n",
    "    for p in parameters:\n",
    "        p.data += -1 * p.grad"
   ]
  },
  {
   "cell_type": "code",
   "execution_count": 83,
   "id": "4982331b",
   "metadata": {},
   "outputs": [
    {
     "name": "stdout",
     "output_type": "stream",
     "text": [
      "7.408750534057617\n",
      "53.723846435546875\n",
      "47.48032760620117\n",
      "66.89157104492188\n",
      "73.99639129638672\n",
      "70.39032745361328\n",
      "61.840335845947266\n",
      "73.87071990966797\n",
      "88.50672912597656\n",
      "64.2800521850586\n",
      "69.53756713867188\n",
      "113.44253540039062\n",
      "97.66425323486328\n",
      "142.82017517089844\n",
      "94.8228530883789\n",
      "103.75357055664062\n",
      "130.269775390625\n",
      "106.9062271118164\n",
      "77.29788970947266\n",
      "66.00249481201172\n",
      "62.1931037902832\n",
      "67.61713409423828\n",
      "50.42264175415039\n",
      "68.00763702392578\n",
      "53.058982849121094\n",
      "88.80752563476562\n",
      "52.826541900634766\n",
      "61.241085052490234\n",
      "60.795249938964844\n",
      "73.64021301269531\n",
      "53.93180465698242\n",
      "74.55674743652344\n",
      "99.21735382080078\n",
      "95.87955474853516\n",
      "85.5064468383789\n",
      "77.60175323486328\n",
      "95.54639434814453\n",
      "71.69632720947266\n",
      "67.1269760131836\n",
      "69.05413818359375\n",
      "52.32421112060547\n",
      "50.124839782714844\n",
      "92.03189849853516\n",
      "67.84211730957031\n",
      "75.41669464111328\n",
      "58.94393539428711\n",
      "58.2169303894043\n",
      "56.026283264160156\n",
      "48.95275115966797\n",
      "62.53440856933594\n",
      "55.02919387817383\n",
      "61.27436447143555\n",
      "41.774986267089844\n",
      "47.33868408203125\n",
      "44.09236526489258\n",
      "38.48920440673828\n",
      "44.83058547973633\n",
      "53.46432113647461\n",
      "71.21690368652344\n",
      "73.98600769042969\n",
      "77.25862121582031\n",
      "72.2055892944336\n",
      "55.84017562866211\n",
      "89.83609008789062\n",
      "68.11138153076172\n",
      "38.11531448364258\n",
      "37.87006378173828\n",
      "51.350746154785156\n",
      "67.011474609375\n",
      "45.70541763305664\n",
      "86.61012268066406\n",
      "50.23336410522461\n",
      "51.63288879394531\n",
      "51.484466552734375\n",
      "41.411495208740234\n",
      "60.522090911865234\n",
      "72.92874145507812\n",
      "58.870723724365234\n",
      "54.62408447265625\n",
      "67.97189331054688\n",
      "60.37315368652344\n",
      "78.98041534423828\n",
      "70.52337646484375\n",
      "65.96076202392578\n",
      "69.28836822509766\n",
      "57.26301193237305\n",
      "73.1327896118164\n",
      "58.18218231201172\n",
      "68.04756164550781\n",
      "68.52200317382812\n",
      "53.81280517578125\n",
      "55.45119094848633\n",
      "86.7627182006836\n",
      "57.273616790771484\n",
      "45.74875259399414\n",
      "54.954200744628906\n",
      "52.62287139892578\n",
      "65.0790786743164\n",
      "84.67198944091797\n",
      "54.7805290222168\n"
     ]
    }
   ],
   "source": [
    "for _ in range(100):\n",
    "    # minibatch construct\n",
    "    ix = torch.randint(0, X.shape[0], (32,))\n",
    "    \n",
    "    #forward pass\n",
    "    emb = C[X[ix]] # (32, 3, 2)\n",
    "    h = torch.tanh(emb.view(-1, 6) @ W1 + b1) # (32, 100)\n",
    "    logits = h @ W2 + b2 # (32, 27)\n",
    "    loss = F.cross_entropy(logits, Y[ix])\n",
    "    print(loss.item())\n",
    "\n",
    "    #backward pass\n",
    "    for p in parameters:\n",
    "        p.grad = None\n",
    "    loss.backward()\n",
    "\n",
    "    #update\n",
    "    for p in parameters:\n",
    "        p.data += -10 * p.grad"
   ]
  },
  {
   "cell_type": "code",
   "execution_count": 84,
   "id": "3a04d34e",
   "metadata": {},
   "outputs": [
    {
     "data": {
      "text/plain": [
       "tensor([0.0010, 0.0020, 0.0030, 0.0040, 0.0050, 0.0060, 0.0070, 0.0080, 0.0090,\n",
       "        0.0100, 0.0110, 0.0120, 0.0130, 0.0140, 0.0150, 0.0160, 0.0170, 0.0180,\n",
       "        0.0190, 0.0200, 0.0210, 0.0220, 0.0230, 0.0240, 0.0250, 0.0260, 0.0270,\n",
       "        0.0280, 0.0290, 0.0300, 0.0310, 0.0320, 0.0330, 0.0340, 0.0350, 0.0360,\n",
       "        0.0370, 0.0380, 0.0390, 0.0400, 0.0410, 0.0420, 0.0430, 0.0440, 0.0450,\n",
       "        0.0460, 0.0470, 0.0480, 0.0490, 0.0500, 0.0510, 0.0520, 0.0530, 0.0540,\n",
       "        0.0550, 0.0560, 0.0570, 0.0580, 0.0590, 0.0600, 0.0610, 0.0620, 0.0630,\n",
       "        0.0640, 0.0650, 0.0660, 0.0670, 0.0680, 0.0690, 0.0700, 0.0710, 0.0720,\n",
       "        0.0730, 0.0740, 0.0750, 0.0760, 0.0770, 0.0780, 0.0790, 0.0800, 0.0810,\n",
       "        0.0820, 0.0830, 0.0840, 0.0850, 0.0860, 0.0870, 0.0880, 0.0890, 0.0900,\n",
       "        0.0910, 0.0920, 0.0930, 0.0940, 0.0950, 0.0960, 0.0970, 0.0980, 0.0990,\n",
       "        0.1000, 0.1010, 0.1020, 0.1030, 0.1040, 0.1050, 0.1060, 0.1070, 0.1080,\n",
       "        0.1090, 0.1100, 0.1110, 0.1120, 0.1130, 0.1140, 0.1150, 0.1160, 0.1170,\n",
       "        0.1180, 0.1190, 0.1200, 0.1210, 0.1220, 0.1230, 0.1240, 0.1250, 0.1260,\n",
       "        0.1270, 0.1280, 0.1290, 0.1300, 0.1310, 0.1320, 0.1330, 0.1340, 0.1350,\n",
       "        0.1360, 0.1370, 0.1380, 0.1390, 0.1400, 0.1410, 0.1420, 0.1430, 0.1440,\n",
       "        0.1450, 0.1460, 0.1470, 0.1480, 0.1490, 0.1500, 0.1510, 0.1520, 0.1530,\n",
       "        0.1540, 0.1550, 0.1560, 0.1570, 0.1580, 0.1590, 0.1600, 0.1610, 0.1620,\n",
       "        0.1630, 0.1640, 0.1650, 0.1660, 0.1670, 0.1680, 0.1690, 0.1700, 0.1710,\n",
       "        0.1720, 0.1730, 0.1740, 0.1750, 0.1760, 0.1770, 0.1780, 0.1790, 0.1800,\n",
       "        0.1810, 0.1820, 0.1830, 0.1840, 0.1850, 0.1860, 0.1870, 0.1880, 0.1890,\n",
       "        0.1900, 0.1910, 0.1920, 0.1930, 0.1940, 0.1950, 0.1960, 0.1970, 0.1980,\n",
       "        0.1990, 0.2000, 0.2010, 0.2020, 0.2030, 0.2040, 0.2050, 0.2060, 0.2070,\n",
       "        0.2080, 0.2090, 0.2100, 0.2110, 0.2120, 0.2130, 0.2140, 0.2150, 0.2160,\n",
       "        0.2170, 0.2180, 0.2190, 0.2200, 0.2210, 0.2220, 0.2230, 0.2240, 0.2250,\n",
       "        0.2260, 0.2270, 0.2280, 0.2290, 0.2300, 0.2310, 0.2320, 0.2330, 0.2340,\n",
       "        0.2350, 0.2360, 0.2370, 0.2380, 0.2390, 0.2400, 0.2410, 0.2420, 0.2430,\n",
       "        0.2440, 0.2450, 0.2460, 0.2470, 0.2480, 0.2490, 0.2500, 0.2510, 0.2520,\n",
       "        0.2530, 0.2540, 0.2550, 0.2560, 0.2570, 0.2580, 0.2590, 0.2600, 0.2610,\n",
       "        0.2620, 0.2630, 0.2640, 0.2650, 0.2660, 0.2670, 0.2680, 0.2690, 0.2700,\n",
       "        0.2710, 0.2720, 0.2730, 0.2740, 0.2750, 0.2760, 0.2770, 0.2780, 0.2790,\n",
       "        0.2800, 0.2810, 0.2820, 0.2830, 0.2840, 0.2850, 0.2860, 0.2870, 0.2880,\n",
       "        0.2890, 0.2900, 0.2910, 0.2920, 0.2930, 0.2940, 0.2950, 0.2960, 0.2970,\n",
       "        0.2980, 0.2990, 0.3000, 0.3010, 0.3020, 0.3030, 0.3040, 0.3050, 0.3060,\n",
       "        0.3070, 0.3080, 0.3090, 0.3100, 0.3110, 0.3120, 0.3130, 0.3140, 0.3150,\n",
       "        0.3160, 0.3170, 0.3180, 0.3190, 0.3200, 0.3210, 0.3220, 0.3230, 0.3240,\n",
       "        0.3250, 0.3260, 0.3270, 0.3280, 0.3290, 0.3300, 0.3310, 0.3320, 0.3330,\n",
       "        0.3340, 0.3350, 0.3360, 0.3370, 0.3380, 0.3390, 0.3400, 0.3410, 0.3420,\n",
       "        0.3430, 0.3440, 0.3450, 0.3460, 0.3470, 0.3480, 0.3490, 0.3500, 0.3510,\n",
       "        0.3520, 0.3530, 0.3540, 0.3550, 0.3560, 0.3570, 0.3580, 0.3590, 0.3600,\n",
       "        0.3610, 0.3620, 0.3630, 0.3640, 0.3650, 0.3660, 0.3670, 0.3680, 0.3690,\n",
       "        0.3700, 0.3710, 0.3720, 0.3730, 0.3740, 0.3750, 0.3760, 0.3770, 0.3780,\n",
       "        0.3790, 0.3800, 0.3810, 0.3820, 0.3830, 0.3840, 0.3850, 0.3860, 0.3870,\n",
       "        0.3880, 0.3890, 0.3900, 0.3910, 0.3920, 0.3930, 0.3940, 0.3950, 0.3960,\n",
       "        0.3970, 0.3980, 0.3990, 0.4000, 0.4010, 0.4020, 0.4030, 0.4040, 0.4050,\n",
       "        0.4060, 0.4070, 0.4080, 0.4090, 0.4100, 0.4110, 0.4120, 0.4130, 0.4140,\n",
       "        0.4150, 0.4160, 0.4170, 0.4180, 0.4190, 0.4200, 0.4210, 0.4220, 0.4230,\n",
       "        0.4240, 0.4250, 0.4260, 0.4270, 0.4280, 0.4290, 0.4300, 0.4310, 0.4320,\n",
       "        0.4330, 0.4340, 0.4350, 0.4360, 0.4370, 0.4380, 0.4390, 0.4400, 0.4410,\n",
       "        0.4420, 0.4430, 0.4440, 0.4450, 0.4460, 0.4470, 0.4480, 0.4490, 0.4500,\n",
       "        0.4510, 0.4520, 0.4530, 0.4540, 0.4550, 0.4560, 0.4570, 0.4580, 0.4590,\n",
       "        0.4600, 0.4610, 0.4620, 0.4630, 0.4640, 0.4650, 0.4660, 0.4670, 0.4680,\n",
       "        0.4690, 0.4700, 0.4710, 0.4720, 0.4730, 0.4740, 0.4750, 0.4760, 0.4770,\n",
       "        0.4780, 0.4790, 0.4800, 0.4810, 0.4820, 0.4830, 0.4840, 0.4850, 0.4860,\n",
       "        0.4870, 0.4880, 0.4890, 0.4900, 0.4910, 0.4920, 0.4930, 0.4940, 0.4950,\n",
       "        0.4960, 0.4970, 0.4980, 0.4990, 0.5000, 0.5010, 0.5020, 0.5030, 0.5040,\n",
       "        0.5050, 0.5060, 0.5070, 0.5080, 0.5090, 0.5100, 0.5110, 0.5120, 0.5130,\n",
       "        0.5140, 0.5150, 0.5160, 0.5170, 0.5180, 0.5190, 0.5200, 0.5210, 0.5220,\n",
       "        0.5230, 0.5240, 0.5250, 0.5260, 0.5270, 0.5280, 0.5290, 0.5300, 0.5310,\n",
       "        0.5320, 0.5330, 0.5340, 0.5350, 0.5360, 0.5370, 0.5380, 0.5390, 0.5400,\n",
       "        0.5410, 0.5420, 0.5430, 0.5440, 0.5450, 0.5460, 0.5470, 0.5480, 0.5490,\n",
       "        0.5500, 0.5510, 0.5520, 0.5530, 0.5540, 0.5550, 0.5560, 0.5570, 0.5580,\n",
       "        0.5590, 0.5600, 0.5610, 0.5620, 0.5630, 0.5640, 0.5650, 0.5660, 0.5670,\n",
       "        0.5680, 0.5690, 0.5700, 0.5710, 0.5720, 0.5730, 0.5740, 0.5750, 0.5760,\n",
       "        0.5770, 0.5780, 0.5790, 0.5800, 0.5810, 0.5820, 0.5830, 0.5840, 0.5850,\n",
       "        0.5860, 0.5870, 0.5880, 0.5890, 0.5900, 0.5910, 0.5920, 0.5930, 0.5940,\n",
       "        0.5950, 0.5960, 0.5970, 0.5980, 0.5990, 0.6000, 0.6010, 0.6020, 0.6030,\n",
       "        0.6040, 0.6050, 0.6060, 0.6070, 0.6080, 0.6090, 0.6100, 0.6110, 0.6120,\n",
       "        0.6130, 0.6140, 0.6150, 0.6160, 0.6170, 0.6180, 0.6190, 0.6200, 0.6210,\n",
       "        0.6220, 0.6230, 0.6240, 0.6250, 0.6260, 0.6270, 0.6280, 0.6290, 0.6300,\n",
       "        0.6310, 0.6320, 0.6330, 0.6340, 0.6350, 0.6360, 0.6370, 0.6380, 0.6390,\n",
       "        0.6400, 0.6410, 0.6420, 0.6430, 0.6440, 0.6450, 0.6460, 0.6470, 0.6480,\n",
       "        0.6490, 0.6500, 0.6510, 0.6520, 0.6530, 0.6540, 0.6550, 0.6560, 0.6570,\n",
       "        0.6580, 0.6590, 0.6600, 0.6610, 0.6620, 0.6630, 0.6640, 0.6650, 0.6660,\n",
       "        0.6670, 0.6680, 0.6690, 0.6700, 0.6710, 0.6720, 0.6730, 0.6740, 0.6750,\n",
       "        0.6760, 0.6770, 0.6780, 0.6790, 0.6800, 0.6810, 0.6820, 0.6830, 0.6840,\n",
       "        0.6850, 0.6860, 0.6870, 0.6880, 0.6890, 0.6900, 0.6910, 0.6920, 0.6930,\n",
       "        0.6940, 0.6950, 0.6960, 0.6970, 0.6980, 0.6990, 0.7000, 0.7010, 0.7020,\n",
       "        0.7030, 0.7040, 0.7050, 0.7060, 0.7070, 0.7080, 0.7090, 0.7100, 0.7110,\n",
       "        0.7120, 0.7130, 0.7140, 0.7150, 0.7160, 0.7170, 0.7180, 0.7190, 0.7200,\n",
       "        0.7210, 0.7220, 0.7230, 0.7240, 0.7250, 0.7260, 0.7270, 0.7280, 0.7290,\n",
       "        0.7300, 0.7310, 0.7320, 0.7330, 0.7340, 0.7350, 0.7360, 0.7370, 0.7380,\n",
       "        0.7390, 0.7400, 0.7410, 0.7420, 0.7430, 0.7440, 0.7450, 0.7460, 0.7470,\n",
       "        0.7480, 0.7490, 0.7500, 0.7510, 0.7520, 0.7530, 0.7540, 0.7550, 0.7560,\n",
       "        0.7570, 0.7580, 0.7590, 0.7600, 0.7610, 0.7620, 0.7630, 0.7640, 0.7650,\n",
       "        0.7660, 0.7670, 0.7680, 0.7690, 0.7700, 0.7710, 0.7720, 0.7730, 0.7740,\n",
       "        0.7750, 0.7760, 0.7770, 0.7780, 0.7790, 0.7800, 0.7810, 0.7820, 0.7830,\n",
       "        0.7840, 0.7850, 0.7860, 0.7870, 0.7880, 0.7890, 0.7900, 0.7910, 0.7920,\n",
       "        0.7930, 0.7940, 0.7950, 0.7960, 0.7970, 0.7980, 0.7990, 0.8000, 0.8010,\n",
       "        0.8020, 0.8030, 0.8040, 0.8050, 0.8060, 0.8070, 0.8080, 0.8090, 0.8100,\n",
       "        0.8110, 0.8120, 0.8130, 0.8140, 0.8150, 0.8160, 0.8170, 0.8180, 0.8190,\n",
       "        0.8200, 0.8210, 0.8220, 0.8230, 0.8240, 0.8250, 0.8260, 0.8270, 0.8280,\n",
       "        0.8290, 0.8300, 0.8310, 0.8320, 0.8330, 0.8340, 0.8350, 0.8360, 0.8370,\n",
       "        0.8380, 0.8390, 0.8400, 0.8410, 0.8420, 0.8430, 0.8440, 0.8450, 0.8460,\n",
       "        0.8470, 0.8480, 0.8490, 0.8500, 0.8510, 0.8520, 0.8530, 0.8540, 0.8550,\n",
       "        0.8560, 0.8570, 0.8580, 0.8590, 0.8600, 0.8610, 0.8620, 0.8630, 0.8640,\n",
       "        0.8650, 0.8660, 0.8670, 0.8680, 0.8690, 0.8700, 0.8710, 0.8720, 0.8730,\n",
       "        0.8740, 0.8750, 0.8760, 0.8770, 0.8780, 0.8790, 0.8800, 0.8810, 0.8820,\n",
       "        0.8830, 0.8840, 0.8850, 0.8860, 0.8870, 0.8880, 0.8890, 0.8900, 0.8910,\n",
       "        0.8920, 0.8930, 0.8940, 0.8950, 0.8960, 0.8970, 0.8980, 0.8990, 0.9000,\n",
       "        0.9010, 0.9020, 0.9030, 0.9040, 0.9050, 0.9060, 0.9070, 0.9080, 0.9090,\n",
       "        0.9100, 0.9110, 0.9120, 0.9130, 0.9140, 0.9150, 0.9160, 0.9170, 0.9180,\n",
       "        0.9190, 0.9200, 0.9210, 0.9220, 0.9230, 0.9240, 0.9250, 0.9260, 0.9270,\n",
       "        0.9280, 0.9290, 0.9300, 0.9310, 0.9320, 0.9330, 0.9340, 0.9350, 0.9360,\n",
       "        0.9370, 0.9380, 0.9390, 0.9400, 0.9410, 0.9420, 0.9430, 0.9440, 0.9450,\n",
       "        0.9460, 0.9470, 0.9480, 0.9490, 0.9500, 0.9510, 0.9520, 0.9530, 0.9540,\n",
       "        0.9550, 0.9560, 0.9570, 0.9580, 0.9590, 0.9600, 0.9610, 0.9620, 0.9630,\n",
       "        0.9640, 0.9650, 0.9660, 0.9670, 0.9680, 0.9690, 0.9700, 0.9710, 0.9720,\n",
       "        0.9730, 0.9740, 0.9750, 0.9760, 0.9770, 0.9780, 0.9790, 0.9800, 0.9810,\n",
       "        0.9820, 0.9830, 0.9840, 0.9850, 0.9860, 0.9870, 0.9880, 0.9890, 0.9900,\n",
       "        0.9910, 0.9920, 0.9930, 0.9940, 0.9950, 0.9960, 0.9970, 0.9980, 0.9990,\n",
       "        1.0000])"
      ]
     },
     "execution_count": 84,
     "metadata": {},
     "output_type": "execute_result"
    }
   ],
   "source": [
    "torch.linspace(0.001, 1, 1000)"
   ]
  },
  {
   "cell_type": "code",
   "execution_count": 85,
   "id": "fa20345a",
   "metadata": {},
   "outputs": [],
   "source": [
    "lre = torch.linspace(-3, 0, 1000) # learning rate exponent\n",
    "lrs = 10**lre"
   ]
  },
  {
   "cell_type": "code",
   "execution_count": 86,
   "id": "008e4dc1",
   "metadata": {},
   "outputs": [],
   "source": [
    "C = torch.randn((27, 2)) # Embedding Lookup Table C\n",
    "W1 = torch.randn((6, 100))\n",
    "b1 = torch.randn(100)\n",
    "W2 = torch.randn((100, 27))\n",
    "b2 = torch.randn(27)\n",
    "parameters = [C, W1, b1, W2, b2]\n",
    "\n",
    "for p in parameters:\n",
    "    p.requires_grad = True"
   ]
  },
  {
   "cell_type": "code",
   "execution_count": 87,
   "id": "8a55646e",
   "metadata": {},
   "outputs": [],
   "source": [
    "lri = []\n",
    "lossi =[]\n",
    "for i in range(1000):\n",
    "    # minibatch construct\n",
    "    ix = torch.randint(0, X.shape[0], (32,))\n",
    "    \n",
    "    #forward pass\n",
    "    emb = C[X[ix]] # (32, 3, 2)\n",
    "    h = torch.tanh(emb.view(-1, 6) @ W1 + b1) # (32, 100)\n",
    "    logits = h @ W2 + b2 # (32, 27)\n",
    "    loss = F.cross_entropy(logits, Y[ix])\n",
    "    #print(loss.item())\n",
    "\n",
    "    #backward pass\n",
    "    for p in parameters:\n",
    "        p.grad = None\n",
    "    loss.backward()\n",
    "\n",
    "    #update\n",
    "    lr = lrs[i]\n",
    "    for p in parameters:\n",
    "        p.data += -lr * p.grad\n",
    "        \n",
    "    # track stats\n",
    "    lri.append(lr)\n",
    "    lossi.append(loss.item())\n",
    "    \n",
    "    "
   ]
  },
  {
   "cell_type": "code",
   "execution_count": 88,
   "id": "d1eeacb6",
   "metadata": {},
   "outputs": [
    {
     "data": {
      "text/plain": [
       "[<matplotlib.lines.Line2D at 0x7f8b9b195550>]"
      ]
     },
     "execution_count": 88,
     "metadata": {},
     "output_type": "execute_result"
    },
    {
     "data": {
      "image/png": "[encoded data removed]",
      "text/plain": [
       "<Figure size 640x480 with 1 Axes>"
      ]
     },
     "metadata": {},
     "output_type": "display_data"
    }
   ],
   "source": [
    "plt.plot(lri, lossi)"
   ]
  },
  {
   "cell_type": "code",
   "execution_count": 89,
   "id": "19a6177a",
   "metadata": {},
   "outputs": [],
   "source": [
    "C = torch.randn((27, 2)) # Embedding Lookup Table C\n",
    "W1 = torch.randn((6, 100))\n",
    "b1 = torch.randn(100)\n",
    "W2 = torch.randn((100, 27))\n",
    "b2 = torch.randn(27)\n",
    "parameters = [C, W1, b1, W2, b2]\n",
    "\n",
    "for p in parameters:\n",
    "    p.requires_grad = True"
   ]
  },
  {
   "cell_type": "code",
   "execution_count": 90,
   "id": "bd1f44b4",
   "metadata": {},
   "outputs": [],
   "source": [
    "lri = []\n",
    "lossi =[]\n",
    "for i in range(1000):\n",
    "    # minibatch construct\n",
    "    ix = torch.randint(0, X.shape[0], (32,))\n",
    "    \n",
    "    #forward pass\n",
    "    emb = C[X[ix]] # (32, 3, 2)\n",
    "    h = torch.tanh(emb.view(-1, 6) @ W1 + b1) # (32, 100)\n",
    "    logits = h @ W2 + b2 # (32, 27)\n",
    "    loss = F.cross_entropy(logits, Y[ix])\n",
    "    #print(loss.item())\n",
    "\n",
    "    #backward pass\n",
    "    for p in parameters:\n",
    "        p.grad = None\n",
    "    loss.backward()\n",
    "\n",
    "    #update\n",
    "    lr = lrs[i]\n",
    "    for p in parameters:\n",
    "        p.data += -lr * p.grad\n",
    "        \n",
    "    # track stats\n",
    "    lri.append(lre[i])\n",
    "    lossi.append(loss.item())\n",
    "    \n",
    "    "
   ]
  },
  {
   "cell_type": "code",
   "execution_count": 91,
   "id": "5c29d943",
   "metadata": {},
   "outputs": [
    {
     "data": {
      "image/png": "[encoded data removed]",
      "text/plain": [
       "<Figure size 640x480 with 1 Axes>"
      ]
     },
     "metadata": {},
     "output_type": "display_data"
    }
   ],
   "source": [
    "plt.plot(lri, lossi);"
   ]
  },
  {
   "cell_type": "code",
   "execution_count": 92,
   "id": "ee14d4c0",
   "metadata": {},
   "outputs": [],
   "source": [
    "C = torch.randn((27, 2)) # Embedding Lookup Table C\n",
    "W1 = torch.randn((6, 100))\n",
    "b1 = torch.randn(100)\n",
    "W2 = torch.randn((100, 27))\n",
    "b2 = torch.randn(27)\n",
    "parameters = [C, W1, b1, W2, b2]\n",
    "\n",
    "for p in parameters:\n",
    "    p.requires_grad = True"
   ]
  },
  {
   "cell_type": "code",
   "execution_count": 93,
   "id": "5380ffe8",
   "metadata": {},
   "outputs": [],
   "source": [
    "for i in range(100000):\n",
    "    # minibatch construct\n",
    "    ix = torch.randint(0, X.shape[0], (32,))\n",
    "    \n",
    "    #forward pass\n",
    "    emb = C[X[ix]] # (32, 3, 2)\n",
    "    h = torch.tanh(emb.view(-1, 6) @ W1 + b1) # (32, 100)\n",
    "    logits = h @ W2 + b2 # (32, 27)\n",
    "    loss = F.cross_entropy(logits, Y[ix])\n",
    "    #print(loss.item())\n",
    "\n",
    "    #backward pass\n",
    "    for p in parameters:\n",
    "        p.grad = None\n",
    "    loss.backward()\n",
    "\n",
    "    #update\n",
    "    lr = 0.1\n",
    "    for p in parameters:\n",
    "        p.data += -lr * p.grad  "
   ]
  },
  {
   "cell_type": "code",
   "execution_count": 94,
   "id": "d9a2b462",
   "metadata": {},
   "outputs": [
    {
     "name": "stdout",
     "output_type": "stream",
     "text": [
      "2.3372585773468018\n"
     ]
    }
   ],
   "source": [
    "#forward pass\n",
    "emb = C[X] # (228146, 3, 2)\n",
    "h = torch.tanh(emb.view(-1, 6) @ W1 + b1) # (228146, 100)\n",
    "logits = h @ W2 + b2 # (228146, 27)\n",
    "loss = F.cross_entropy(logits, Y)\n",
    "print(loss.item())"
   ]
  },
  {
   "cell_type": "code",
   "execution_count": 95,
   "id": "488c2998",
   "metadata": {},
   "outputs": [],
   "source": [
    "# LETS DO LEARNING RATE DECAY"
   ]
  },
  {
   "cell_type": "code",
   "execution_count": 96,
   "id": "03197857",
   "metadata": {},
   "outputs": [],
   "source": [
    "for i in range(100000):\n",
    "    # minibatch construct\n",
    "    ix = torch.randint(0, X.shape[0], (32,))\n",
    "    \n",
    "    #forward pass\n",
    "    emb = C[X[ix]] # (32, 3, 2)\n",
    "    h = torch.tanh(emb.view(-1, 6) @ W1 + b1) # (32, 100)\n",
    "    logits = h @ W2 + b2 # (32, 27)\n",
    "    loss = F.cross_entropy(logits, Y[ix])\n",
    "    #print(loss.item())\n",
    "\n",
    "    #backward pass\n",
    "    for p in parameters:\n",
    "        p.grad = None\n",
    "    loss.backward()\n",
    "\n",
    "    #update\n",
    "    lr = 0.01\n",
    "    for p in parameters:\n",
    "        p.data += -lr * p.grad  "
   ]
  },
  {
   "cell_type": "code",
   "execution_count": 97,
   "id": "0a24d3ed",
   "metadata": {},
   "outputs": [
    {
     "name": "stdout",
     "output_type": "stream",
     "text": [
      "2.262504816055298\n"
     ]
    }
   ],
   "source": [
    "#forward pass\n",
    "emb = C[X] # (228146, 3, 2)\n",
    "h = torch.tanh(emb.view(-1, 6) @ W1 + b1) # (228146, 100)\n",
    "logits = h @ W2 + b2 # (228146, 27)\n",
    "loss = F.cross_entropy(logits, Y)\n",
    "print(loss.item())"
   ]
  },
  {
   "cell_type": "code",
   "execution_count": 98,
   "id": "8c0a6d0c",
   "metadata": {},
   "outputs": [
    {
     "data": {
      "text/plain": [
       "(25626, 28829)"
      ]
     },
     "execution_count": 98,
     "metadata": {},
     "output_type": "execute_result"
    }
   ],
   "source": [
    "import random\n",
    "\n",
    "random.seed(42)\n",
    "random.shuffle(words)\n",
    "\n",
    "n1 = int(0.8*len(words))\n",
    "n2 = int(0.9*len(words))\n",
    "\n",
    "n1, n2"
   ]
  },
  {
   "cell_type": "code",
   "execution_count": 99,
   "id": "857345d0",
   "metadata": {},
   "outputs": [
    {
     "name": "stdout",
     "output_type": "stream",
     "text": [
      "torch.Size([182625, 3]) torch.Size([182625])\n",
      "torch.Size([22655, 3]) torch.Size([22655])\n",
      "torch.Size([22866, 3]) torch.Size([22866])\n"
     ]
    }
   ],
   "source": [
    "Xtrain, Ytrain = build_dataset(words[:n1]) # train parameter\n",
    "Xdev, Ydev = build_dataset(words[n1:n2]) # \"train\" hyper-parameter\n",
    "Xtest, Ytest = build_dataset(words[n2:])"
   ]
  },
  {
   "cell_type": "code",
   "execution_count": 100,
   "id": "e1bc0d70",
   "metadata": {},
   "outputs": [],
   "source": [
    "C = torch.randn((27, 2)) # Embedding Lookup Table C\n",
    "W1 = torch.randn((6, 100))\n",
    "b1 = torch.randn(100)\n",
    "W2 = torch.randn((100, 27))\n",
    "b2 = torch.randn(27)\n",
    "parameters = [C, W1, b1, W2, b2]\n",
    "\n",
    "for p in parameters:\n",
    "    p.requires_grad = True"
   ]
  },
  {
   "cell_type": "code",
   "execution_count": 101,
   "id": "0a050b67",
   "metadata": {},
   "outputs": [],
   "source": [
    "for i in range(100000):\n",
    "    # minibatch construct\n",
    "    ix = torch.randint(0, Xtrain.shape[0], (32,)) ###\n",
    "    \n",
    "    #forward pass\n",
    "    emb = C[Xtrain[ix]] # (32, 3, 2) ###\n",
    "    h = torch.tanh(emb.view(-1, 6) @ W1 + b1) # (32, 100)\n",
    "    logits = h @ W2 + b2 # (32, 27)\n",
    "    loss = F.cross_entropy(logits, Ytrain[ix]) ###\n",
    "    #print(loss.item())\n",
    "\n",
    "    #backward pass\n",
    "    for p in parameters:\n",
    "        p.grad = None\n",
    "    loss.backward()\n",
    "\n",
    "    #update\n",
    "    lr = 0.1\n",
    "    for p in parameters:\n",
    "        p.data += -lr * p.grad  "
   ]
  },
  {
   "cell_type": "code",
   "execution_count": 102,
   "id": "bfab0397",
   "metadata": {},
   "outputs": [
    {
     "name": "stdout",
     "output_type": "stream",
     "text": [
      "2.312506914138794\n"
     ]
    }
   ],
   "source": [
    "#forward pass\n",
    "emb = C[Xtrain] # (182625, 3, 2) ###\n",
    "h = torch.tanh(emb.view(-1, 6) @ W1 + b1) # (182625, 100)\n",
    "logits = h @ W2 + b2 # (182625, 27)\n",
    "loss = F.cross_entropy(logits, Ytrain) ###\n",
    "print(loss.item())"
   ]
  },
  {
   "cell_type": "code",
   "execution_count": 103,
   "id": "de71d4cf",
   "metadata": {},
   "outputs": [
    {
     "name": "stdout",
     "output_type": "stream",
     "text": [
      "2.3129830360412598\n"
     ]
    }
   ],
   "source": [
    "#forward pass\n",
    "emb = C[Xdev] # (22655, 3, 2) ###\n",
    "h = torch.tanh(emb.view(-1, 6) @ W1 + b1) # (22655, 100)\n",
    "logits = h @ W2 + b2 # (22655, 27)\n",
    "loss = F.cross_entropy(logits, Ydev) ###\n",
    "print(loss.item())"
   ]
  },
  {
   "cell_type": "code",
   "execution_count": 104,
   "id": "bd0cb106",
   "metadata": {},
   "outputs": [],
   "source": [
    "C = torch.randn((27, 2)) # Embedding Lookup Table C\n",
    "W1 = torch.randn((6, 300))\n",
    "b1 = torch.randn(300)\n",
    "W2 = torch.randn((300, 27))\n",
    "b2 = torch.randn(27)\n",
    "parameters = [C, W1, b1, W2, b2]\n",
    "\n",
    "for p in parameters:\n",
    "    p.requires_grad = True"
   ]
  },
  {
   "cell_type": "code",
   "execution_count": 105,
   "id": "6c90469e",
   "metadata": {},
   "outputs": [],
   "source": [
    "for i in range(200000): ###\n",
    "    # minibatch construct\n",
    "    ix = torch.randint(0, Xtrain.shape[0], (32,)) ###\n",
    "    \n",
    "    #forward pass\n",
    "    emb = C[Xtrain[ix]] # (32, 3, 2) ###\n",
    "    h = torch.tanh(emb.view(-1, 6) @ W1 + b1) # (32, 300)\n",
    "    logits = h @ W2 + b2 # (32, 27)\n",
    "    loss = F.cross_entropy(logits, Ytrain[ix]) ###\n",
    "    #print(loss.item())\n",
    "\n",
    "    #backward pass\n",
    "    for p in parameters:\n",
    "        p.grad = None\n",
    "    loss.backward()\n",
    "\n",
    "    #update\n",
    "    lr = 0.1 if i < 100000 else 0.01 #####\n",
    "    for p in parameters:\n",
    "        p.data += -lr * p.grad  "
   ]
  },
  {
   "cell_type": "code",
   "execution_count": 106,
   "id": "8e646cd3",
   "metadata": {},
   "outputs": [
    {
     "name": "stdout",
     "output_type": "stream",
     "text": [
      "2.2306101322174072\n"
     ]
    }
   ],
   "source": [
    "#forward pass\n",
    "emb = C[Xtrain] # (182625, 3, 2) ###\n",
    "h = torch.tanh(emb.view(-1, 6) @ W1 + b1) # (182625, 300)\n",
    "logits = h @ W2 + b2 # (182625, 27)\n",
    "loss = F.cross_entropy(logits, Ytrain) ###\n",
    "print(loss.item())"
   ]
  },
  {
   "cell_type": "code",
   "execution_count": 107,
   "id": "6548d7ab",
   "metadata": {},
   "outputs": [
    {
     "name": "stdout",
     "output_type": "stream",
     "text": [
      "2.2379441261291504\n"
     ]
    }
   ],
   "source": [
    "#forward pass\n",
    "emb = C[Xdev] # (22655, 3, 2) ###\n",
    "h = torch.tanh(emb.view(-1, 6) @ W1 + b1) # (22655, 300)\n",
    "logits = h @ W2 + b2 # (22655, 27)\n",
    "loss = F.cross_entropy(logits, Ydev) ###\n",
    "print(loss.item())"
   ]
  },
  {
   "cell_type": "code",
   "execution_count": 108,
   "id": "22b3b070",
   "metadata": {},
   "outputs": [],
   "source": [
    "C = torch.randn((27, 10)) # Embedding Lookup Table C\n",
    "W1 = torch.randn((30, 300))\n",
    "b1 = torch.randn(300)\n",
    "W2 = torch.randn((300, 27))\n",
    "b2 = torch.randn(27)\n",
    "parameters = [C, W1, b1, W2, b2]\n",
    "\n",
    "for p in parameters:\n",
    "    p.requires_grad = True"
   ]
  },
  {
   "cell_type": "code",
   "execution_count": 109,
   "id": "39b9e95c",
   "metadata": {},
   "outputs": [],
   "source": [
    "for i in range(200000): ###\n",
    "    # minibatch construct\n",
    "    ix = torch.randint(0, Xtrain.shape[0], (32,)) ###\n",
    "    \n",
    "    #forward pass\n",
    "    emb = C[Xtrain[ix]] # (32, 3, 2) ###\n",
    "    h = torch.tanh(emb.view(-1, 30) @ W1 + b1) # (32, 100)\n",
    "    logits = h @ W2 + b2 # (32, 27)\n",
    "    loss = F.cross_entropy(logits, Ytrain[ix]) ###\n",
    "    #print(loss.item())\n",
    "\n",
    "    #backward pass\n",
    "    for p in parameters:\n",
    "        p.grad = None\n",
    "    loss.backward()\n",
    "\n",
    "    #update\n",
    "    lr = 0.1 if i < 100000 else 0.01 #####\n",
    "    for p in parameters:\n",
    "        p.data += -lr * p.grad "
   ]
  },
  {
   "cell_type": "code",
   "execution_count": 110,
   "id": "233b3f31",
   "metadata": {},
   "outputs": [
    {
     "name": "stdout",
     "output_type": "stream",
     "text": [
      "2.089655637741089\n"
     ]
    }
   ],
   "source": [
    "#forward pass\n",
    "emb = C[Xtrain] # (182625, 3, 2) ###\n",
    "h = torch.tanh(emb.view(-1, 30) @ W1 + b1) # (182625, 300)\n",
    "logits = h @ W2 + b2 # (182625, 27)\n",
    "loss = F.cross_entropy(logits, Ytrain) ###\n",
    "print(loss.item())"
   ]
  },
  {
   "cell_type": "code",
   "execution_count": 111,
   "id": "8bb02d9d",
   "metadata": {},
   "outputs": [
    {
     "name": "stdout",
     "output_type": "stream",
     "text": [
      "2.1644399166107178\n"
     ]
    }
   ],
   "source": [
    "#forward pass\n",
    "emb = C[Xdev] # (22655, 3, 2) ###\n",
    "h = torch.tanh(emb.view(-1, 30) @ W1 + b1) # (22655, 300)\n",
    "logits = h @ W2 + b2 # (22655, 27)\n",
    "loss = F.cross_entropy(logits, Ydev) ###\n",
    "print(loss.item())"
   ]
  },
  {
   "cell_type": "code",
   "execution_count": 112,
   "id": "48eb3b50",
   "metadata": {},
   "outputs": [
    {
     "name": "stdout",
     "output_type": "stream",
     "text": [
      "2.1621453762054443\n"
     ]
    }
   ],
   "source": [
    "#forward pass\n",
    "emb = C[Xtest] # (22655, 3, 2) ###\n",
    "h = torch.tanh(emb.view(-1, 30) @ W1 + b1) # (22655, 300)\n",
    "logits = h @ W2 + b2 # (22655, 27)\n",
    "loss = F.cross_entropy(logits, Ytest) ###\n",
    "print(loss.item())"
   ]
  },
  {
   "cell_type": "code",
   "execution_count": 113,
   "id": "3e005fcc",
   "metadata": {},
   "outputs": [
    {
     "name": "stdout",
     "output_type": "stream",
     "text": [
      "yansy.\n",
      "haviah.\n",
      "nolle.\n",
      "khalei.\n",
      "nya.\n",
      "tryannachel.\n",
      "ena.\n",
      "daya.\n",
      "jian.\n",
      "abdeuma.\n",
      "lon.\n",
      "topheon.\n",
      "kimani.\n",
      "lanne.\n",
      "alex.\n",
      "jahlan.\n",
      "xaina.\n",
      "luna.\n",
      "adami.\n",
      "zerianne.\n"
     ]
    }
   ],
   "source": [
    "# sample from the model\n",
    "g = torch.Generator().manual_seed(42)\n",
    "\n",
    "for _ in range(20):\n",
    "    \n",
    "    out = []\n",
    "    context = [0] * block_size # initialize with all ...\n",
    "    while True:\n",
    "        emb = C[torch.tensor([context])] # (1,block_size,d)\n",
    "        h = torch.tanh(emb.view(1, -1) @ W1 + b1)\n",
    "        logits = h @ W2 + b2\n",
    "        probs = F.softmax(logits, dim=1)\n",
    "        ix = torch.multinomial(probs, num_samples=1, generator=g).item()\n",
    "        context = context[1:] + [ix]\n",
    "        out.append(ix)\n",
    "        if ix == 0:\n",
    "            break\n",
    "    \n",
    "    print(''.join(itos[i] for i in out))"
   ]
  },
  {
   "cell_type": "code",
   "execution_count": null,
   "id": "d053b549",
   "metadata": {},
   "outputs": [],
   "source": []
  }
 ],
 "metadata": {
  "kernelspec": {
   "display_name": "Python 3 (ipykernel)",
   "language": "python",
   "name": "python3"
  },
  "language_info": {
   "codemirror_mode": {
    "name": "ipython",
    "version": 3
   },
   "file_extension": ".py",
   "mimetype": "text/x-python",
   "name": "python",
   "nbconvert_exporter": "python",
   "pygments_lexer": "ipython3",
   "version": "3.11.7"
  }
 },
 "nbformat": 4,
 "nbformat_minor": 5
}
